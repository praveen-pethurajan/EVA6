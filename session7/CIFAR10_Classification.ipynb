{
  "nbformat": 4,
  "nbformat_minor": 0,
  "metadata": {
    "colab": {
      "name": "CIFAR10_Classification.ipynb",
      "provenance": [],
      "collapsed_sections": [],
      "include_colab_link": true
    },
    "kernelspec": {
      "name": "python3",
      "display_name": "Python 3"
    },
    "language_info": {
      "name": "python"
    },
    "accelerator": "GPU",
    "widgets": {
      "application/vnd.jupyter.widget-state+json": {
        "c3fe667948cc49ae99c4d9f2599ae900": {
          "model_module": "@jupyter-widgets/controls",
          "model_name": "HBoxModel",
          "state": {
            "_view_name": "HBoxView",
            "_dom_classes": [],
            "_model_name": "HBoxModel",
            "_view_module": "@jupyter-widgets/controls",
            "_model_module_version": "1.5.0",
            "_view_count": null,
            "_view_module_version": "1.5.0",
            "box_style": "",
            "layout": "IPY_MODEL_01282a01a286433e8600051d166bcf08",
            "_model_module": "@jupyter-widgets/controls",
            "children": [
              "IPY_MODEL_84cbd69dfe364744b1baf17146100969",
              "IPY_MODEL_7aaf62b9139e42a7bf546efe403ea124"
            ]
          }
        },
        "01282a01a286433e8600051d166bcf08": {
          "model_module": "@jupyter-widgets/base",
          "model_name": "LayoutModel",
          "state": {
            "_view_name": "LayoutView",
            "grid_template_rows": null,
            "right": null,
            "justify_content": null,
            "_view_module": "@jupyter-widgets/base",
            "overflow": null,
            "_model_module_version": "1.2.0",
            "_view_count": null,
            "flex_flow": null,
            "width": null,
            "min_width": null,
            "border": null,
            "align_items": null,
            "bottom": null,
            "_model_module": "@jupyter-widgets/base",
            "top": null,
            "grid_column": null,
            "overflow_y": null,
            "overflow_x": null,
            "grid_auto_flow": null,
            "grid_area": null,
            "grid_template_columns": null,
            "flex": null,
            "_model_name": "LayoutModel",
            "justify_items": null,
            "grid_row": null,
            "max_height": null,
            "align_content": null,
            "visibility": null,
            "align_self": null,
            "height": null,
            "min_height": null,
            "padding": null,
            "grid_auto_rows": null,
            "grid_gap": null,
            "max_width": null,
            "order": null,
            "_view_module_version": "1.2.0",
            "grid_template_areas": null,
            "object_position": null,
            "object_fit": null,
            "grid_auto_columns": null,
            "margin": null,
            "display": null,
            "left": null
          }
        },
        "84cbd69dfe364744b1baf17146100969": {
          "model_module": "@jupyter-widgets/controls",
          "model_name": "FloatProgressModel",
          "state": {
            "_view_name": "ProgressView",
            "style": "IPY_MODEL_620f641a0b6d4517b5eefe07244903a7",
            "_dom_classes": [],
            "description": "",
            "_model_name": "FloatProgressModel",
            "bar_style": "success",
            "max": 170498071,
            "_view_module": "@jupyter-widgets/controls",
            "_model_module_version": "1.5.0",
            "value": 170498071,
            "_view_count": null,
            "_view_module_version": "1.5.0",
            "orientation": "horizontal",
            "min": 0,
            "description_tooltip": null,
            "_model_module": "@jupyter-widgets/controls",
            "layout": "IPY_MODEL_d4c7bd9c45b8480b9eeeeb7f3865151a"
          }
        },
        "7aaf62b9139e42a7bf546efe403ea124": {
          "model_module": "@jupyter-widgets/controls",
          "model_name": "HTMLModel",
          "state": {
            "_view_name": "HTMLView",
            "style": "IPY_MODEL_ef622a20682f44bab7ac375b1c90c31e",
            "_dom_classes": [],
            "description": "",
            "_model_name": "HTMLModel",
            "placeholder": "​",
            "_view_module": "@jupyter-widgets/controls",
            "_model_module_version": "1.5.0",
            "value": " 170499072/? [31:03&lt;00:00, 91508.26it/s]",
            "_view_count": null,
            "_view_module_version": "1.5.0",
            "description_tooltip": null,
            "_model_module": "@jupyter-widgets/controls",
            "layout": "IPY_MODEL_a578b85592d04f3b9e0b69de3fff3252"
          }
        },
        "620f641a0b6d4517b5eefe07244903a7": {
          "model_module": "@jupyter-widgets/controls",
          "model_name": "ProgressStyleModel",
          "state": {
            "_view_name": "StyleView",
            "_model_name": "ProgressStyleModel",
            "description_width": "initial",
            "_view_module": "@jupyter-widgets/base",
            "_model_module_version": "1.5.0",
            "_view_count": null,
            "_view_module_version": "1.2.0",
            "bar_color": null,
            "_model_module": "@jupyter-widgets/controls"
          }
        },
        "d4c7bd9c45b8480b9eeeeb7f3865151a": {
          "model_module": "@jupyter-widgets/base",
          "model_name": "LayoutModel",
          "state": {
            "_view_name": "LayoutView",
            "grid_template_rows": null,
            "right": null,
            "justify_content": null,
            "_view_module": "@jupyter-widgets/base",
            "overflow": null,
            "_model_module_version": "1.2.0",
            "_view_count": null,
            "flex_flow": null,
            "width": null,
            "min_width": null,
            "border": null,
            "align_items": null,
            "bottom": null,
            "_model_module": "@jupyter-widgets/base",
            "top": null,
            "grid_column": null,
            "overflow_y": null,
            "overflow_x": null,
            "grid_auto_flow": null,
            "grid_area": null,
            "grid_template_columns": null,
            "flex": null,
            "_model_name": "LayoutModel",
            "justify_items": null,
            "grid_row": null,
            "max_height": null,
            "align_content": null,
            "visibility": null,
            "align_self": null,
            "height": null,
            "min_height": null,
            "padding": null,
            "grid_auto_rows": null,
            "grid_gap": null,
            "max_width": null,
            "order": null,
            "_view_module_version": "1.2.0",
            "grid_template_areas": null,
            "object_position": null,
            "object_fit": null,
            "grid_auto_columns": null,
            "margin": null,
            "display": null,
            "left": null
          }
        },
        "ef622a20682f44bab7ac375b1c90c31e": {
          "model_module": "@jupyter-widgets/controls",
          "model_name": "DescriptionStyleModel",
          "state": {
            "_view_name": "StyleView",
            "_model_name": "DescriptionStyleModel",
            "description_width": "",
            "_view_module": "@jupyter-widgets/base",
            "_model_module_version": "1.5.0",
            "_view_count": null,
            "_view_module_version": "1.2.0",
            "_model_module": "@jupyter-widgets/controls"
          }
        },
        "a578b85592d04f3b9e0b69de3fff3252": {
          "model_module": "@jupyter-widgets/base",
          "model_name": "LayoutModel",
          "state": {
            "_view_name": "LayoutView",
            "grid_template_rows": null,
            "right": null,
            "justify_content": null,
            "_view_module": "@jupyter-widgets/base",
            "overflow": null,
            "_model_module_version": "1.2.0",
            "_view_count": null,
            "flex_flow": null,
            "width": null,
            "min_width": null,
            "border": null,
            "align_items": null,
            "bottom": null,
            "_model_module": "@jupyter-widgets/base",
            "top": null,
            "grid_column": null,
            "overflow_y": null,
            "overflow_x": null,
            "grid_auto_flow": null,
            "grid_area": null,
            "grid_template_columns": null,
            "flex": null,
            "_model_name": "LayoutModel",
            "justify_items": null,
            "grid_row": null,
            "max_height": null,
            "align_content": null,
            "visibility": null,
            "align_self": null,
            "height": null,
            "min_height": null,
            "padding": null,
            "grid_auto_rows": null,
            "grid_gap": null,
            "max_width": null,
            "order": null,
            "_view_module_version": "1.2.0",
            "grid_template_areas": null,
            "object_position": null,
            "object_fit": null,
            "grid_auto_columns": null,
            "margin": null,
            "display": null,
            "left": null
          }
        }
      }
    }
  },
  "cells": [
    {
      "cell_type": "markdown",
      "metadata": {
        "id": "view-in-github",
        "colab_type": "text"
      },
      "source": [
        "<a href=\"https://colab.research.google.com/github/praveen-pethurajan/EVA6/blob/main/session7/CIFAR10_Classification.ipynb\" target=\"_parent\"><img src=\"https://colab.research.google.com/assets/colab-badge.svg\" alt=\"Open In Colab\"/></a>"
      ]
    },
    {
      "cell_type": "code",
      "metadata": {
        "id": "9z9aCIb7z9ef"
      },
      "source": [
        "import torch\n",
        "import torchvision\n",
        "import torchvision.transforms as transforms\n",
        "import matplotlib.pyplot as plt\n",
        "import numpy as np"
      ],
      "execution_count": null,
      "outputs": []
    },
    {
      "cell_type": "code",
      "metadata": {
        "id": "WBpn2t0Cy9Cm"
      },
      "source": [
        "import sys\n",
        "import os\n",
        "\n",
        "py_file_location = '/content/drive/My Drive/cifar/'\n",
        "sys.path.append(os.path.abspath(py_file_location))\n",
        "\n",
        "import model"
      ],
      "execution_count": null,
      "outputs": []
    },
    {
      "cell_type": "code",
      "metadata": {
        "id": "7sbILspNNpVX",
        "colab": {
          "base_uri": "https://localhost:8080/"
        },
        "outputId": "5fc8f0f7-429d-40af-8322-ceedd0cd3d22"
      },
      "source": [
        "!pip install git+https://github.com/albumentations-team/albumentations.git\n"
      ],
      "execution_count": null,
      "outputs": [
        {
          "output_type": "stream",
          "text": [
            "Collecting git+https://github.com/albumentations-team/albumentations.git\n",
            "  Cloning https://github.com/albumentations-team/albumentations.git to /tmp/pip-req-build-4b62jlwt\n",
            "  Running command git clone -q https://github.com/albumentations-team/albumentations.git /tmp/pip-req-build-4b62jlwt\n",
            "Requirement already satisfied: numpy>=1.11.1 in /usr/local/lib/python3.7/dist-packages (from albumentations==1.0.0) (1.19.5)\n",
            "Requirement already satisfied: scipy in /usr/local/lib/python3.7/dist-packages (from albumentations==1.0.0) (1.4.1)\n",
            "Requirement already satisfied: scikit-image>=0.16.1 in /usr/local/lib/python3.7/dist-packages (from albumentations==1.0.0) (0.16.2)\n",
            "Requirement already satisfied: PyYAML in /usr/local/lib/python3.7/dist-packages (from albumentations==1.0.0) (3.13)\n",
            "Requirement already satisfied: opencv-python>=4.1.1 in /usr/local/lib/python3.7/dist-packages (from albumentations==1.0.0) (4.1.2.30)\n",
            "Requirement already satisfied: pillow>=4.3.0 in /usr/local/lib/python3.7/dist-packages (from scikit-image>=0.16.1->albumentations==1.0.0) (7.1.2)\n",
            "Requirement already satisfied: networkx>=2.0 in /usr/local/lib/python3.7/dist-packages (from scikit-image>=0.16.1->albumentations==1.0.0) (2.5.1)\n",
            "Requirement already satisfied: imageio>=2.3.0 in /usr/local/lib/python3.7/dist-packages (from scikit-image>=0.16.1->albumentations==1.0.0) (2.4.1)\n",
            "Requirement already satisfied: PyWavelets>=0.4.0 in /usr/local/lib/python3.7/dist-packages (from scikit-image>=0.16.1->albumentations==1.0.0) (1.1.1)\n",
            "Requirement already satisfied: matplotlib!=3.0.0,>=2.0.0 in /usr/local/lib/python3.7/dist-packages (from scikit-image>=0.16.1->albumentations==1.0.0) (3.2.2)\n",
            "Requirement already satisfied: decorator<5,>=4.3 in /usr/local/lib/python3.7/dist-packages (from networkx>=2.0->scikit-image>=0.16.1->albumentations==1.0.0) (4.4.2)\n",
            "Requirement already satisfied: pyparsing!=2.0.4,!=2.1.2,!=2.1.6,>=2.0.1 in /usr/local/lib/python3.7/dist-packages (from matplotlib!=3.0.0,>=2.0.0->scikit-image>=0.16.1->albumentations==1.0.0) (2.4.7)\n",
            "Requirement already satisfied: python-dateutil>=2.1 in /usr/local/lib/python3.7/dist-packages (from matplotlib!=3.0.0,>=2.0.0->scikit-image>=0.16.1->albumentations==1.0.0) (2.8.1)\n",
            "Requirement already satisfied: kiwisolver>=1.0.1 in /usr/local/lib/python3.7/dist-packages (from matplotlib!=3.0.0,>=2.0.0->scikit-image>=0.16.1->albumentations==1.0.0) (1.3.1)\n",
            "Requirement already satisfied: cycler>=0.10 in /usr/local/lib/python3.7/dist-packages (from matplotlib!=3.0.0,>=2.0.0->scikit-image>=0.16.1->albumentations==1.0.0) (0.10.0)\n",
            "Requirement already satisfied: six>=1.5 in /usr/local/lib/python3.7/dist-packages (from python-dateutil>=2.1->matplotlib!=3.0.0,>=2.0.0->scikit-image>=0.16.1->albumentations==1.0.0) (1.15.0)\n",
            "Building wheels for collected packages: albumentations\n",
            "  Building wheel for albumentations (setup.py) ... \u001b[?25l\u001b[?25hdone\n",
            "  Created wheel for albumentations: filename=albumentations-1.0.0-cp37-none-any.whl size=98151 sha256=44c3650f836dde43623f5711d9e0d7ad7c13d661176b5bc0f293ccf6596dad00\n",
            "  Stored in directory: /tmp/pip-ephem-wheel-cache-p9jiwotq/wheels/e2/85/3e/2a40fac5cc1f43ced656603bb2fca1327b30ec7de1b1b66517\n",
            "Successfully built albumentations\n",
            "Installing collected packages: albumentations\n",
            "  Found existing installation: albumentations 0.1.12\n",
            "    Uninstalling albumentations-0.1.12:\n",
            "      Successfully uninstalled albumentations-0.1.12\n",
            "Successfully installed albumentations-1.0.0\n"
          ],
          "name": "stdout"
        }
      ]
    },
    {
      "cell_type": "code",
      "metadata": {
        "id": "iFe68HYQnZNZ"
      },
      "source": [
        "class Cifar10SearchDataset(torchvision.datasets.CIFAR10):\n",
        "    def __init__(self, root=\"~/data/cifar10\", train=True, download=True, transform=None):\n",
        "        super().__init__(root=root, train=train, download=download, transform=transform)\n",
        "\n",
        "    def __getitem__(self, index):\n",
        "        image, label = self.data[index], self.targets[index]\n",
        "\n",
        "        if self.transform is not None:\n",
        "            transformed = self.transform(image=image)\n",
        "            image = transformed[\"image\"]\n",
        "\n",
        "        return image, label"
      ],
      "execution_count": null,
      "outputs": []
    },
    {
      "cell_type": "code",
      "metadata": {
        "id": "eJQp-Z26h5_N",
        "colab": {
          "base_uri": "https://localhost:8080/",
          "height": 766,
          "referenced_widgets": [
            "c3fe667948cc49ae99c4d9f2599ae900",
            "01282a01a286433e8600051d166bcf08",
            "84cbd69dfe364744b1baf17146100969",
            "7aaf62b9139e42a7bf546efe403ea124",
            "620f641a0b6d4517b5eefe07244903a7",
            "d4c7bd9c45b8480b9eeeeb7f3865151a",
            "ef622a20682f44bab7ac375b1c90c31e",
            "a578b85592d04f3b9e0b69de3fff3252"
          ]
        },
        "outputId": "0a4cae90-776e-4973-e466-481cc9668738"
      },
      "source": [
        "!pip install albumentations==0.4.6\n",
        "import albumentations as A\n",
        "from albumentations.pytorch import ToTensorV2\n",
        "\n",
        "alb_transform = A.Compose([\n",
        "    A.HorizontalFlip(p=0.4),\n",
        "    A.ShiftScaleRotate(shift_limit=0.05, scale_limit=0.05, rotate_limit=15, p=0.5),\n",
        "    A.CoarseDropout(max_holes = 1, max_height=4, max_width=4, min_holes = 1, \n",
        "                    min_height=1, min_width=1, fill_value=[0.49139968, 0.48215841, 0.44653091]),\n",
        "    A.Normalize(mean=(0.49139968, 0.48215841, 0.44653091), std=(0.24703223, 0.24348513, 0.26158784)),\n",
        "    ToTensorV2(),\n",
        "])\n",
        "\n",
        "\n",
        "transform = transforms.Compose(\n",
        "    [transforms.ToTensor(),\n",
        "     transforms.Normalize((0.49139968, 0.48215841, 0.44653091), (0.229, 0.224, 0.225))])\n",
        "\n",
        "SEED = 1\n",
        "\n",
        "# CUDA?\n",
        "cuda = torch.cuda.is_available()\n",
        "print(\"CUDA Available?\", cuda)\n",
        "\n",
        "# For reproducibility\n",
        "torch.manual_seed(SEED)\n",
        "\n",
        "if cuda:\n",
        "    torch.cuda.manual_seed(SEED)\n",
        "\n",
        "Batch_size = 128\n",
        "\n",
        "trainset = Cifar10SearchDataset(root='./data', train=True,\n",
        "                                        download=True, transform=alb_transform)\n",
        "trainloader = torch.utils.data.DataLoader(trainset, batch_size=128,\n",
        "                                          shuffle=True, num_workers=2)\n",
        "\n",
        "testset = torchvision.datasets.CIFAR10(root='./data', train=False,\n",
        "                                       download=True, transform=transform)\n",
        "testloader = torch.utils.data.DataLoader(testset, batch_size=128,\n",
        "                                         shuffle=False, num_workers=2)\n",
        "\n",
        "classes = ('plane', 'car', 'bird', 'cat',\n",
        "           'deer', 'dog', 'frog', 'horse', 'ship', 'truck')"
      ],
      "execution_count": null,
      "outputs": [
        {
          "output_type": "stream",
          "text": [
            "Collecting albumentations==0.4.6\n",
            "\u001b[?25l  Downloading https://files.pythonhosted.org/packages/92/33/1c459c2c9a4028ec75527eff88bc4e2d256555189f42af4baf4d7bd89233/albumentations-0.4.6.tar.gz (117kB)\n",
            "\u001b[K     |████████████████████████████████| 122kB 7.5MB/s \n",
            "\u001b[?25hRequirement already satisfied: numpy>=1.11.1 in /usr/local/lib/python3.7/dist-packages (from albumentations==0.4.6) (1.19.5)\n",
            "Requirement already satisfied: scipy in /usr/local/lib/python3.7/dist-packages (from albumentations==0.4.6) (1.4.1)\n",
            "Collecting imgaug>=0.4.0\n",
            "\u001b[?25l  Downloading https://files.pythonhosted.org/packages/66/b1/af3142c4a85cba6da9f4ebb5ff4e21e2616309552caca5e8acefe9840622/imgaug-0.4.0-py2.py3-none-any.whl (948kB)\n",
            "\u001b[K     |████████████████████████████████| 952kB 42.7MB/s \n",
            "\u001b[?25hRequirement already satisfied: PyYAML in /usr/local/lib/python3.7/dist-packages (from albumentations==0.4.6) (3.13)\n",
            "Requirement already satisfied: opencv-python>=4.1.1 in /usr/local/lib/python3.7/dist-packages (from albumentations==0.4.6) (4.1.2.30)\n",
            "Requirement already satisfied: Shapely in /usr/local/lib/python3.7/dist-packages (from imgaug>=0.4.0->albumentations==0.4.6) (1.7.1)\n",
            "Requirement already satisfied: matplotlib in /usr/local/lib/python3.7/dist-packages (from imgaug>=0.4.0->albumentations==0.4.6) (3.2.2)\n",
            "Requirement already satisfied: Pillow in /usr/local/lib/python3.7/dist-packages (from imgaug>=0.4.0->albumentations==0.4.6) (7.1.2)\n",
            "Requirement already satisfied: scikit-image>=0.14.2 in /usr/local/lib/python3.7/dist-packages (from imgaug>=0.4.0->albumentations==0.4.6) (0.16.2)\n",
            "Requirement already satisfied: six in /usr/local/lib/python3.7/dist-packages (from imgaug>=0.4.0->albumentations==0.4.6) (1.15.0)\n",
            "Requirement already satisfied: imageio in /usr/local/lib/python3.7/dist-packages (from imgaug>=0.4.0->albumentations==0.4.6) (2.4.1)\n",
            "Requirement already satisfied: cycler>=0.10 in /usr/local/lib/python3.7/dist-packages (from matplotlib->imgaug>=0.4.0->albumentations==0.4.6) (0.10.0)\n",
            "Requirement already satisfied: kiwisolver>=1.0.1 in /usr/local/lib/python3.7/dist-packages (from matplotlib->imgaug>=0.4.0->albumentations==0.4.6) (1.3.1)\n",
            "Requirement already satisfied: pyparsing!=2.0.4,!=2.1.2,!=2.1.6,>=2.0.1 in /usr/local/lib/python3.7/dist-packages (from matplotlib->imgaug>=0.4.0->albumentations==0.4.6) (2.4.7)\n",
            "Requirement already satisfied: python-dateutil>=2.1 in /usr/local/lib/python3.7/dist-packages (from matplotlib->imgaug>=0.4.0->albumentations==0.4.6) (2.8.1)\n",
            "Requirement already satisfied: PyWavelets>=0.4.0 in /usr/local/lib/python3.7/dist-packages (from scikit-image>=0.14.2->imgaug>=0.4.0->albumentations==0.4.6) (1.1.1)\n",
            "Requirement already satisfied: networkx>=2.0 in /usr/local/lib/python3.7/dist-packages (from scikit-image>=0.14.2->imgaug>=0.4.0->albumentations==0.4.6) (2.5.1)\n",
            "Requirement already satisfied: decorator<5,>=4.3 in /usr/local/lib/python3.7/dist-packages (from networkx>=2.0->scikit-image>=0.14.2->imgaug>=0.4.0->albumentations==0.4.6) (4.4.2)\n",
            "Building wheels for collected packages: albumentations\n",
            "  Building wheel for albumentations (setup.py) ... \u001b[?25l\u001b[?25hdone\n",
            "  Created wheel for albumentations: filename=albumentations-0.4.6-cp37-none-any.whl size=65175 sha256=37c6076b9250520e5941ba47b855b21d38d4186ed0f846bf6e7239a41f06fcfd\n",
            "  Stored in directory: /root/.cache/pip/wheels/c7/f4/89/56d1bee5c421c36c1a951eeb4adcc32fbb82f5344c086efa14\n",
            "Successfully built albumentations\n",
            "Installing collected packages: imgaug, albumentations\n",
            "  Found existing installation: imgaug 0.2.9\n",
            "    Uninstalling imgaug-0.2.9:\n",
            "      Successfully uninstalled imgaug-0.2.9\n",
            "  Found existing installation: albumentations 1.0.0\n",
            "    Uninstalling albumentations-1.0.0:\n",
            "      Successfully uninstalled albumentations-1.0.0\n",
            "Successfully installed albumentations-0.4.6 imgaug-0.4.0\n",
            "CUDA Available? True\n",
            "Downloading https://www.cs.toronto.edu/~kriz/cifar-10-python.tar.gz to ./data/cifar-10-python.tar.gz\n"
          ],
          "name": "stdout"
        },
        {
          "output_type": "display_data",
          "data": {
            "application/vnd.jupyter.widget-view+json": {
              "model_id": "c3fe667948cc49ae99c4d9f2599ae900",
              "version_minor": 0,
              "version_major": 2
            },
            "text/plain": [
              "HBox(children=(FloatProgress(value=0.0, max=170498071.0), HTML(value='')))"
            ]
          },
          "metadata": {
            "tags": []
          }
        },
        {
          "output_type": "stream",
          "text": [
            "\n",
            "Extracting ./data/cifar-10-python.tar.gz to ./data\n",
            "Files already downloaded and verified\n"
          ],
          "name": "stdout"
        }
      ]
    },
    {
      "cell_type": "code",
      "metadata": {
        "id": "gmoZ6mV7OxKr",
        "colab": {
          "base_uri": "https://localhost:8080/",
          "height": 286
        },
        "outputId": "10acd81f-494a-4a9f-d04b-aa4b8a4cb539"
      },
      "source": [
        "import matplotlib.pyplot as plt\n",
        "import numpy as np\n",
        "\n",
        "# functions to show an image\n",
        "\n",
        "\n",
        "def imshow(img):\n",
        "    img = img / 2 + 0.5     # unnormalize\n",
        "    npimg = img.numpy()\n",
        "    plt.imshow(np.transpose(npimg, (1, 2, 0)))\n",
        "\n",
        "\n",
        "# get some random training images\n",
        "dataiter = iter(trainloader)\n",
        "images, labels = dataiter.next()\n",
        "\n",
        "# show images\n",
        "imshow(torchvision.utils.make_grid(images))\n"
      ],
      "execution_count": null,
      "outputs": [
        {
          "output_type": "stream",
          "text": [
            "Clipping input data to the valid range for imshow with RGB data ([0..1] for floats or [0..255] for integers).\n"
          ],
          "name": "stderr"
        },
        {
          "output_type": "display_data",
          "data": {
            "image/png": "[encoded data removed]",
            "text/plain": [
              "<Figure size 432x288 with 1 Axes>"
            ]
          },
          "metadata": {
            "tags": [],
            "needs_background": "light"
          }
        }
      ]
    },
    {
      "cell_type": "code",
      "metadata": {
        "id": "xGOZ_yjlVP5-",
        "colab": {
          "base_uri": "https://localhost:8080/"
        },
        "outputId": "61f036e0-7a56-41ca-e421-10cefb221b7a"
      },
      "source": [
        "from torchsummary import summary\n",
        "use_cuda = torch.cuda.is_available()\n",
        "device = torch.device(\"cuda\" if use_cuda else \"cpu\")\n",
        "model = model.Net().to(device)\n",
        "summary(model, input_size=(3, 32, 32))"
      ],
      "execution_count": null,
      "outputs": [
        {
          "output_type": "stream",
          "text": [
            "----------------------------------------------------------------\n",
            "        Layer (type)               Output Shape         Param #\n",
            "================================================================\n",
            "            Conv2d-1           [-1, 32, 32, 32]             896\n",
            "              ReLU-2           [-1, 32, 32, 32]               0\n",
            "       BatchNorm2d-3           [-1, 32, 32, 32]              64\n",
            "           Dropout-4           [-1, 32, 32, 32]               0\n",
            "            Conv2d-5           [-1, 64, 32, 32]          18,496\n",
            "              ReLU-6           [-1, 64, 32, 32]               0\n",
            "       BatchNorm2d-7           [-1, 64, 32, 32]             128\n",
            "           Dropout-8           [-1, 64, 32, 32]               0\n",
            "            Conv2d-9           [-1, 32, 32, 32]           2,080\n",
            "           Conv2d-10           [-1, 32, 30, 30]           9,248\n",
            "             ReLU-11           [-1, 32, 30, 30]               0\n",
            "      BatchNorm2d-12           [-1, 32, 30, 30]              64\n",
            "          Dropout-13           [-1, 32, 30, 30]               0\n",
            "           Conv2d-14           [-1, 32, 28, 28]           9,248\n",
            "             ReLU-15           [-1, 32, 28, 28]               0\n",
            "      BatchNorm2d-16           [-1, 32, 28, 28]              64\n",
            "          Dropout-17           [-1, 32, 28, 28]               0\n",
            "           Conv2d-18           [-1, 32, 26, 26]           9,248\n",
            "             ReLU-19           [-1, 32, 26, 26]               0\n",
            "      BatchNorm2d-20           [-1, 32, 26, 26]              64\n",
            "          Dropout-21           [-1, 32, 26, 26]               0\n",
            "           Conv2d-22           [-1, 16, 22, 22]           4,624\n",
            "             ReLU-23           [-1, 16, 22, 22]               0\n",
            "           Conv2d-24           [-1, 32, 20, 20]           4,640\n",
            "             ReLU-25           [-1, 32, 20, 20]               0\n",
            "      BatchNorm2d-26           [-1, 32, 20, 20]              64\n",
            "          Dropout-27           [-1, 32, 20, 20]               0\n",
            "           Conv2d-28           [-1, 64, 18, 18]          18,496\n",
            "             ReLU-29           [-1, 64, 18, 18]               0\n",
            "      BatchNorm2d-30           [-1, 64, 18, 18]             128\n",
            "          Dropout-31           [-1, 64, 18, 18]               0\n",
            "           Conv2d-32           [-1, 64, 16, 16]          36,928\n",
            "             ReLU-33           [-1, 64, 16, 16]               0\n",
            "      BatchNorm2d-34           [-1, 64, 16, 16]             128\n",
            "          Dropout-35           [-1, 64, 16, 16]               0\n",
            "           Conv2d-36             [-1, 64, 7, 7]          36,928\n",
            "             ReLU-37             [-1, 64, 7, 7]               0\n",
            "           Conv2d-38             [-1, 16, 7, 7]           1,040\n",
            "           Conv2d-39             [-1, 32, 5, 5]           4,640\n",
            "             ReLU-40             [-1, 32, 5, 5]               0\n",
            "      BatchNorm2d-41             [-1, 32, 5, 5]              64\n",
            "          Dropout-42             [-1, 32, 5, 5]               0\n",
            "           Conv2d-43             [-1, 64, 3, 3]          18,496\n",
            "        AvgPool2d-44             [-1, 64, 1, 1]               0\n",
            "           Conv2d-45             [-1, 10, 1, 1]             650\n",
            "================================================================\n",
            "Total params: 176,426\n",
            "Trainable params: 176,426\n",
            "Non-trainable params: 0\n",
            "----------------------------------------------------------------\n",
            "Input size (MB): 0.01\n",
            "Forward/backward pass size (MB): 7.28\n",
            "Params size (MB): 0.67\n",
            "Estimated Total Size (MB): 7.96\n",
            "----------------------------------------------------------------\n"
          ],
          "name": "stdout"
        }
      ]
    },
    {
      "cell_type": "code",
      "metadata": {
        "id": "30h6RSfBVk9I"
      },
      "source": [
        "import torch.optim as optim\n",
        "\n",
        "criterion = nn.CrossEntropyLoss()\n",
        "optimizer = optim.SGD(model.parameters(), lr=0.001, momentum=0.9)"
      ],
      "execution_count": null,
      "outputs": []
    },
    {
      "cell_type": "code",
      "metadata": {
        "id": "FC4tq6aGYz1Z",
        "colab": {
          "base_uri": "https://localhost:8080/"
        },
        "outputId": "fe7c5a2e-77ba-45f5-cc2b-2ba4f6cdc07a"
      },
      "source": [
        "minibatches = int(len(trainset)/Batch_size)\n",
        "minibatches"
      ],
      "execution_count": null,
      "outputs": [
        {
          "output_type": "execute_result",
          "data": {
            "text/plain": [
              "390"
            ]
          },
          "metadata": {
            "tags": []
          },
          "execution_count": 10
        }
      ]
    },
    {
      "cell_type": "code",
      "metadata": {
        "id": "okDOcBblbwXg",
        "colab": {
          "base_uri": "https://localhost:8080/"
        },
        "outputId": "7e982685-3de3-403f-bca7-e4d96d5dc2e7"
      },
      "source": [
        "from torch.optim.lr_scheduler import StepLR,OneCycleLR\n",
        "for epoch in range(110):  # loop over the dataset multiple times\n",
        "\n",
        "    running_loss = 0.0\n",
        "    correct = 0\n",
        "    processed = 0\n",
        "    for i, data in enumerate(trainloader, 0):\n",
        "        # get the inputs\n",
        "        inputs, labels = data\n",
        "        inputs,labels = inputs.to(device), labels.to(device)\n",
        "\n",
        "        # zero the parameter gradients\n",
        "        optimizer.zero_grad()\n",
        "\n",
        "        # forward + backward + optimize\n",
        "        outputs = model(inputs)\n",
        "        loss = criterion(outputs, labels) # CrossEntropyLoss\n",
        "        loss.backward()\n",
        "        optimizer.step() # SGD\n",
        "\n",
        "        # print statistics\n",
        "        running_loss += loss.item()\n",
        "\n",
        "        pred = outputs.argmax(dim=1, keepdim=True)  # get the index of the max log-probability\n",
        "        correct += pred.eq(labels.view_as(pred)).sum().item()\n",
        "        processed += len(inputs)\n",
        "\n",
        "        if i == minibatches:    # print every  mini-batches\n",
        "            print('[%d, %5d] loss: %.3f Acc: %.3f' %(epoch + 1, i + 1, running_loss / 2000,100*correct/processed ))\n",
        "            running_loss = 0.0\n"
      ],
      "execution_count": null,
      "outputs": [
        {
          "output_type": "stream",
          "text": [
            "[1,   391] loss: 0.378 Acc: 26.068\n",
            "[2,   391] loss: 0.310 Acc: 41.208\n",
            "[3,   391] loss: 0.274 Acc: 48.500\n",
            "[4,   391] loss: 0.253 Acc: 52.918\n",
            "[5,   391] loss: 0.239 Acc: 55.628\n",
            "[6,   391] loss: 0.226 Acc: 58.418\n",
            "[7,   391] loss: 0.216 Acc: 60.404\n",
            "[8,   391] loss: 0.207 Acc: 61.978\n",
            "[9,   391] loss: 0.199 Acc: 63.432\n",
            "[10,   391] loss: 0.193 Acc: 64.988\n",
            "[11,   391] loss: 0.186 Acc: 66.214\n",
            "[12,   391] loss: 0.180 Acc: 67.172\n",
            "[13,   391] loss: 0.175 Acc: 68.212\n",
            "[14,   391] loss: 0.171 Acc: 69.122\n",
            "[15,   391] loss: 0.166 Acc: 70.174\n",
            "[16,   391] loss: 0.160 Acc: 71.146\n",
            "[17,   391] loss: 0.158 Acc: 71.852\n",
            "[18,   391] loss: 0.155 Acc: 72.042\n",
            "[19,   391] loss: 0.152 Acc: 72.620\n",
            "[20,   391] loss: 0.148 Acc: 73.526\n",
            "[21,   391] loss: 0.147 Acc: 73.796\n",
            "[22,   391] loss: 0.143 Acc: 74.294\n",
            "[23,   391] loss: 0.142 Acc: 74.544\n",
            "[24,   391] loss: 0.139 Acc: 75.074\n",
            "[25,   391] loss: 0.136 Acc: 75.496\n",
            "[26,   391] loss: 0.136 Acc: 75.588\n",
            "[27,   391] loss: 0.133 Acc: 76.348\n",
            "[28,   391] loss: 0.131 Acc: 76.440\n",
            "[29,   391] loss: 0.130 Acc: 76.866\n",
            "[30,   391] loss: 0.128 Acc: 77.338\n",
            "[31,   391] loss: 0.127 Acc: 77.190\n",
            "[32,   391] loss: 0.125 Acc: 77.592\n",
            "[33,   391] loss: 0.124 Acc: 77.854\n",
            "[34,   391] loss: 0.123 Acc: 78.108\n",
            "[35,   391] loss: 0.121 Acc: 78.370\n",
            "[36,   391] loss: 0.120 Acc: 78.578\n",
            "[37,   391] loss: 0.119 Acc: 78.726\n",
            "[38,   391] loss: 0.118 Acc: 79.048\n",
            "[39,   391] loss: 0.116 Acc: 79.282\n",
            "[40,   391] loss: 0.116 Acc: 79.324\n",
            "[41,   391] loss: 0.115 Acc: 79.590\n",
            "[42,   391] loss: 0.113 Acc: 79.768\n",
            "[43,   391] loss: 0.113 Acc: 79.834\n",
            "[44,   391] loss: 0.112 Acc: 80.214\n",
            "[45,   391] loss: 0.111 Acc: 80.154\n",
            "[46,   391] loss: 0.110 Acc: 80.526\n",
            "[47,   391] loss: 0.110 Acc: 80.274\n",
            "[48,   391] loss: 0.108 Acc: 80.692\n",
            "[49,   391] loss: 0.108 Acc: 80.550\n",
            "[50,   391] loss: 0.106 Acc: 81.024\n",
            "[51,   391] loss: 0.107 Acc: 80.930\n",
            "[52,   391] loss: 0.106 Acc: 81.100\n",
            "[53,   391] loss: 0.106 Acc: 81.108\n",
            "[54,   391] loss: 0.104 Acc: 81.264\n",
            "[55,   391] loss: 0.104 Acc: 81.350\n",
            "[56,   391] loss: 0.103 Acc: 81.610\n",
            "[57,   391] loss: 0.101 Acc: 81.912\n",
            "[58,   391] loss: 0.102 Acc: 81.756\n",
            "[59,   391] loss: 0.100 Acc: 82.010\n",
            "[60,   391] loss: 0.100 Acc: 82.188\n",
            "[61,   391] loss: 0.101 Acc: 82.004\n",
            "[62,   391] loss: 0.101 Acc: 81.984\n",
            "[63,   391] loss: 0.098 Acc: 82.546\n",
            "[64,   391] loss: 0.099 Acc: 82.298\n",
            "[65,   391] loss: 0.098 Acc: 82.488\n",
            "[66,   391] loss: 0.097 Acc: 82.526\n",
            "[67,   391] loss: 0.097 Acc: 82.630\n",
            "[68,   391] loss: 0.096 Acc: 82.804\n",
            "[69,   391] loss: 0.096 Acc: 82.754\n",
            "[70,   391] loss: 0.096 Acc: 82.928\n",
            "[71,   391] loss: 0.096 Acc: 82.900\n",
            "[72,   391] loss: 0.094 Acc: 83.060\n",
            "[73,   391] loss: 0.094 Acc: 83.300\n",
            "[74,   391] loss: 0.093 Acc: 83.224\n",
            "[75,   391] loss: 0.094 Acc: 83.402\n",
            "[76,   391] loss: 0.092 Acc: 83.494\n",
            "[77,   391] loss: 0.092 Acc: 83.564\n",
            "[78,   391] loss: 0.091 Acc: 83.750\n",
            "[79,   391] loss: 0.091 Acc: 83.482\n",
            "[80,   391] loss: 0.091 Acc: 83.816\n",
            "[81,   391] loss: 0.091 Acc: 83.674\n",
            "[82,   391] loss: 0.090 Acc: 83.796\n",
            "[83,   391] loss: 0.090 Acc: 84.116\n",
            "[84,   391] loss: 0.089 Acc: 84.106\n",
            "[85,   391] loss: 0.090 Acc: 83.870\n",
            "[86,   391] loss: 0.088 Acc: 84.214\n",
            "[87,   391] loss: 0.088 Acc: 84.396\n",
            "[88,   391] loss: 0.088 Acc: 84.232\n",
            "[89,   391] loss: 0.088 Acc: 84.274\n",
            "[90,   391] loss: 0.087 Acc: 84.420\n",
            "[91,   391] loss: 0.087 Acc: 84.494\n",
            "[92,   391] loss: 0.087 Acc: 84.526\n",
            "[93,   391] loss: 0.086 Acc: 84.652\n",
            "[94,   391] loss: 0.086 Acc: 84.672\n",
            "[95,   391] loss: 0.085 Acc: 84.770\n",
            "[96,   391] loss: 0.085 Acc: 84.880\n",
            "[97,   391] loss: 0.085 Acc: 84.554\n",
            "[98,   391] loss: 0.084 Acc: 84.880\n",
            "[99,   391] loss: 0.085 Acc: 84.886\n",
            "[100,   391] loss: 0.085 Acc: 84.880\n",
            "[101,   391] loss: 0.085 Acc: 84.802\n",
            "[102,   391] loss: 0.083 Acc: 85.146\n",
            "[103,   391] loss: 0.082 Acc: 85.266\n",
            "[104,   391] loss: 0.084 Acc: 85.058\n",
            "[105,   391] loss: 0.083 Acc: 85.120\n",
            "[106,   391] loss: 0.083 Acc: 85.304\n",
            "[107,   391] loss: 0.082 Acc: 85.334\n",
            "[108,   391] loss: 0.082 Acc: 85.270\n",
            "[109,   391] loss: 0.082 Acc: 85.452\n",
            "[110,   391] loss: 0.082 Acc: 85.360\n"
          ],
          "name": "stdout"
        }
      ]
    },
    {
      "cell_type": "code",
      "metadata": {
        "id": "dK6togkredoG",
        "colab": {
          "base_uri": "https://localhost:8080/"
        },
        "outputId": "40cc9531-83a0-4bf1-9f09-49218aa76485"
      },
      "source": [
        "\n",
        "correct = 0\n",
        "total = 0\n",
        "with torch.no_grad():\n",
        "    for data in testloader:\n",
        "        images, labels = data\n",
        "        images, labels = images.to(device), labels.to(device)\n",
        "        outputs = model(images)\n",
        "        _, predicted = torch.max(outputs.data, 1)\n",
        "        total += labels.size(0)\n",
        "        correct += (predicted == labels).sum().item()\n",
        "\n",
        "print('Accuracy of the network on the 10000 test images: %.3f %%' % (\n",
        "    100 * correct / total))"
      ],
      "execution_count": null,
      "outputs": [
        {
          "output_type": "stream",
          "text": [
            "Accuracy of the network on the 10000 test images: 82.710 %\n"
          ],
          "name": "stdout"
        }
      ]
    },
    {
      "cell_type": "code",
      "metadata": {
        "id": "WvwBLdiFd7Wa",
        "colab": {
          "base_uri": "https://localhost:8080/"
        },
        "outputId": "055bdfb2-62d3-4f99-e72e-f9266637ebdd"
      },
      "source": [
        "class_correct = list(0. for i in range(10))\n",
        "class_total = list(0. for i in range(10))\n",
        "with torch.no_grad():\n",
        "    for data in testloader:\n",
        "        images, labels = data\n",
        "        images, labels = images.to(device), labels.to(device)\n",
        "        outputs = model(images)\n",
        "        _, predicted = torch.max(outputs, 1)\n",
        "        c = (predicted == labels).squeeze()\n",
        "        for i in range(4):\n",
        "            label = labels[i]\n",
        "            class_correct[label] += c[i].item()\n",
        "            class_total[label] += 1\n",
        "\n",
        "\n",
        "for i in range(10):\n",
        "    print('Accuracy of %5s : %2d %%' % (\n",
        "        classes[i], 100 * class_correct[i] / class_total[i]))"
      ],
      "execution_count": null,
      "outputs": [
        {
          "output_type": "stream",
          "text": [
            "Accuracy of plane : 86 %\n",
            "Accuracy of   car : 92 %\n",
            "Accuracy of  bird : 81 %\n",
            "Accuracy of   cat : 55 %\n",
            "Accuracy of  deer : 77 %\n",
            "Accuracy of   dog : 66 %\n",
            "Accuracy of  frog : 77 %\n",
            "Accuracy of horse : 80 %\n",
            "Accuracy of  ship : 96 %\n",
            "Accuracy of truck : 89 %\n"
          ],
          "name": "stdout"
        }
      ]
    },
    {
      "cell_type": "code",
      "metadata": {
        "id": "N5bFqHseele8"
      },
      "source": [
        ""
      ],
      "execution_count": null,
      "outputs": []
    }
  ]
}