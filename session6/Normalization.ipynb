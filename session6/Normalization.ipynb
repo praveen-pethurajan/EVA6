{
  "nbformat": 4,
  "nbformat_minor": 0,
  "metadata": {
    "colab": {
      "name": "Normalization.ipynb",
      "provenance": [],
      "collapsed_sections": [],
      "include_colab_link": true
    },
    "kernelspec": {
      "name": "python3",
      "display_name": "Python 3"
    },
    "language_info": {
      "name": "python"
    },
    "accelerator": "GPU",
    "widgets": {
      "application/vnd.jupyter.widget-state+json": {
        "428115bf7ae345018033363167179578": {
          "model_module": "@jupyter-widgets/controls",
          "model_name": "HBoxModel",
          "state": {
            "_view_name": "HBoxView",
            "_dom_classes": [],
            "_model_name": "HBoxModel",
            "_view_module": "@jupyter-widgets/controls",
            "_model_module_version": "1.5.0",
            "_view_count": null,
            "_view_module_version": "1.5.0",
            "box_style": "",
            "layout": "IPY_MODEL_b5c6a9fd8c33475eacbef87a7a3b396e",
            "_model_module": "@jupyter-widgets/controls",
            "children": [
              "IPY_MODEL_6c77d8f8f8d6493595f82d6ea1d77d83",
              "IPY_MODEL_5af3adfdbabb4917bd75d2201306cba3"
            ]
          }
        },
        "b5c6a9fd8c33475eacbef87a7a3b396e": {
          "model_module": "@jupyter-widgets/base",
          "model_name": "LayoutModel",
          "state": {
            "_view_name": "LayoutView",
            "grid_template_rows": null,
            "right": null,
            "justify_content": null,
            "_view_module": "@jupyter-widgets/base",
            "overflow": null,
            "_model_module_version": "1.2.0",
            "_view_count": null,
            "flex_flow": null,
            "width": null,
            "min_width": null,
            "border": null,
            "align_items": null,
            "bottom": null,
            "_model_module": "@jupyter-widgets/base",
            "top": null,
            "grid_column": null,
            "overflow_y": null,
            "overflow_x": null,
            "grid_auto_flow": null,
            "grid_area": null,
            "grid_template_columns": null,
            "flex": null,
            "_model_name": "LayoutModel",
            "justify_items": null,
            "grid_row": null,
            "max_height": null,
            "align_content": null,
            "visibility": null,
            "align_self": null,
            "height": null,
            "min_height": null,
            "padding": null,
            "grid_auto_rows": null,
            "grid_gap": null,
            "max_width": null,
            "order": null,
            "_view_module_version": "1.2.0",
            "grid_template_areas": null,
            "object_position": null,
            "object_fit": null,
            "grid_auto_columns": null,
            "margin": null,
            "display": null,
            "left": null
          }
        },
        "6c77d8f8f8d6493595f82d6ea1d77d83": {
          "model_module": "@jupyter-widgets/controls",
          "model_name": "FloatProgressModel",
          "state": {
            "_view_name": "ProgressView",
            "style": "IPY_MODEL_caa77f3c550d42a7b9b17aaa755e166b",
            "_dom_classes": [],
            "description": "",
            "_model_name": "FloatProgressModel",
            "bar_style": "success",
            "max": 9912422,
            "_view_module": "@jupyter-widgets/controls",
            "_model_module_version": "1.5.0",
            "value": 9912422,
            "_view_count": null,
            "_view_module_version": "1.5.0",
            "orientation": "horizontal",
            "min": 0,
            "description_tooltip": null,
            "_model_module": "@jupyter-widgets/controls",
            "layout": "IPY_MODEL_cd7abb4ebc0b48798d5fe3053a8c4fda"
          }
        },
        "5af3adfdbabb4917bd75d2201306cba3": {
          "model_module": "@jupyter-widgets/controls",
          "model_name": "HTMLModel",
          "state": {
            "_view_name": "HTMLView",
            "style": "IPY_MODEL_c03005b189ad48f9b0eaae24a687c8d8",
            "_dom_classes": [],
            "description": "",
            "_model_name": "HTMLModel",
            "placeholder": "​",
            "_view_module": "@jupyter-widgets/controls",
            "_model_module_version": "1.5.0",
            "value": " 9913344/? [04:44&lt;00:00, 34851.20it/s]",
            "_view_count": null,
            "_view_module_version": "1.5.0",
            "description_tooltip": null,
            "_model_module": "@jupyter-widgets/controls",
            "layout": "IPY_MODEL_8f17dfe5e8224179a8751f33858ba116"
          }
        },
        "caa77f3c550d42a7b9b17aaa755e166b": {
          "model_module": "@jupyter-widgets/controls",
          "model_name": "ProgressStyleModel",
          "state": {
            "_view_name": "StyleView",
            "_model_name": "ProgressStyleModel",
            "description_width": "initial",
            "_view_module": "@jupyter-widgets/base",
            "_model_module_version": "1.5.0",
            "_view_count": null,
            "_view_module_version": "1.2.0",
            "bar_color": null,
            "_model_module": "@jupyter-widgets/controls"
          }
        },
        "cd7abb4ebc0b48798d5fe3053a8c4fda": {
          "model_module": "@jupyter-widgets/base",
          "model_name": "LayoutModel",
          "state": {
            "_view_name": "LayoutView",
            "grid_template_rows": null,
            "right": null,
            "justify_content": null,
            "_view_module": "@jupyter-widgets/base",
            "overflow": null,
            "_model_module_version": "1.2.0",
            "_view_count": null,
            "flex_flow": null,
            "width": null,
            "min_width": null,
            "border": null,
            "align_items": null,
            "bottom": null,
            "_model_module": "@jupyter-widgets/base",
            "top": null,
            "grid_column": null,
            "overflow_y": null,
            "overflow_x": null,
            "grid_auto_flow": null,
            "grid_area": null,
            "grid_template_columns": null,
            "flex": null,
            "_model_name": "LayoutModel",
            "justify_items": null,
            "grid_row": null,
            "max_height": null,
            "align_content": null,
            "visibility": null,
            "align_self": null,
            "height": null,
            "min_height": null,
            "padding": null,
            "grid_auto_rows": null,
            "grid_gap": null,
            "max_width": null,
            "order": null,
            "_view_module_version": "1.2.0",
            "grid_template_areas": null,
            "object_position": null,
            "object_fit": null,
            "grid_auto_columns": null,
            "margin": null,
            "display": null,
            "left": null
          }
        },
        "c03005b189ad48f9b0eaae24a687c8d8": {
          "model_module": "@jupyter-widgets/controls",
          "model_name": "DescriptionStyleModel",
          "state": {
            "_view_name": "StyleView",
            "_model_name": "DescriptionStyleModel",
            "description_width": "",
            "_view_module": "@jupyter-widgets/base",
            "_model_module_version": "1.5.0",
            "_view_count": null,
            "_view_module_version": "1.2.0",
            "_model_module": "@jupyter-widgets/controls"
          }
        },
        "8f17dfe5e8224179a8751f33858ba116": {
          "model_module": "@jupyter-widgets/base",
          "model_name": "LayoutModel",
          "state": {
            "_view_name": "LayoutView",
            "grid_template_rows": null,
            "right": null,
            "justify_content": null,
            "_view_module": "@jupyter-widgets/base",
            "overflow": null,
            "_model_module_version": "1.2.0",
            "_view_count": null,
            "flex_flow": null,
            "width": null,
            "min_width": null,
            "border": null,
            "align_items": null,
            "bottom": null,
            "_model_module": "@jupyter-widgets/base",
            "top": null,
            "grid_column": null,
            "overflow_y": null,
            "overflow_x": null,
            "grid_auto_flow": null,
            "grid_area": null,
            "grid_template_columns": null,
            "flex": null,
            "_model_name": "LayoutModel",
            "justify_items": null,
            "grid_row": null,
            "max_height": null,
            "align_content": null,
            "visibility": null,
            "align_self": null,
            "height": null,
            "min_height": null,
            "padding": null,
            "grid_auto_rows": null,
            "grid_gap": null,
            "max_width": null,
            "order": null,
            "_view_module_version": "1.2.0",
            "grid_template_areas": null,
            "object_position": null,
            "object_fit": null,
            "grid_auto_columns": null,
            "margin": null,
            "display": null,
            "left": null
          }
        },
        "fd3d3251f04b4d77a52f371ab1196d10": {
          "model_module": "@jupyter-widgets/controls",
          "model_name": "HBoxModel",
          "state": {
            "_view_name": "HBoxView",
            "_dom_classes": [],
            "_model_name": "HBoxModel",
            "_view_module": "@jupyter-widgets/controls",
            "_model_module_version": "1.5.0",
            "_view_count": null,
            "_view_module_version": "1.5.0",
            "box_style": "",
            "layout": "IPY_MODEL_42e21414847345fe8a68ab7c098b695e",
            "_model_module": "@jupyter-widgets/controls",
            "children": [
              "IPY_MODEL_57cfb960da5f4d439d8d4ea94aed74db",
              "IPY_MODEL_6723636106554d548db37ccda34baf00"
            ]
          }
        },
        "42e21414847345fe8a68ab7c098b695e": {
          "model_module": "@jupyter-widgets/base",
          "model_name": "LayoutModel",
          "state": {
            "_view_name": "LayoutView",
            "grid_template_rows": null,
            "right": null,
            "justify_content": null,
            "_view_module": "@jupyter-widgets/base",
            "overflow": null,
            "_model_module_version": "1.2.0",
            "_view_count": null,
            "flex_flow": null,
            "width": null,
            "min_width": null,
            "border": null,
            "align_items": null,
            "bottom": null,
            "_model_module": "@jupyter-widgets/base",
            "top": null,
            "grid_column": null,
            "overflow_y": null,
            "overflow_x": null,
            "grid_auto_flow": null,
            "grid_area": null,
            "grid_template_columns": null,
            "flex": null,
            "_model_name": "LayoutModel",
            "justify_items": null,
            "grid_row": null,
            "max_height": null,
            "align_content": null,
            "visibility": null,
            "align_self": null,
            "height": null,
            "min_height": null,
            "padding": null,
            "grid_auto_rows": null,
            "grid_gap": null,
            "max_width": null,
            "order": null,
            "_view_module_version": "1.2.0",
            "grid_template_areas": null,
            "object_position": null,
            "object_fit": null,
            "grid_auto_columns": null,
            "margin": null,
            "display": null,
            "left": null
          }
        },
        "57cfb960da5f4d439d8d4ea94aed74db": {
          "model_module": "@jupyter-widgets/controls",
          "model_name": "FloatProgressModel",
          "state": {
            "_view_name": "ProgressView",
            "style": "IPY_MODEL_ff99d3d97c1a4cc2a0e87415479e151e",
            "_dom_classes": [],
            "description": "",
            "_model_name": "FloatProgressModel",
            "bar_style": "success",
            "max": 28881,
            "_view_module": "@jupyter-widgets/controls",
            "_model_module_version": "1.5.0",
            "value": 28881,
            "_view_count": null,
            "_view_module_version": "1.5.0",
            "orientation": "horizontal",
            "min": 0,
            "description_tooltip": null,
            "_model_module": "@jupyter-widgets/controls",
            "layout": "IPY_MODEL_d842d11aee1442ef80623ba64891985f"
          }
        },
        "6723636106554d548db37ccda34baf00": {
          "model_module": "@jupyter-widgets/controls",
          "model_name": "HTMLModel",
          "state": {
            "_view_name": "HTMLView",
            "style": "IPY_MODEL_e215a0ecd74241e1ac382c13d15df8cc",
            "_dom_classes": [],
            "description": "",
            "_model_name": "HTMLModel",
            "placeholder": "​",
            "_view_module": "@jupyter-widgets/controls",
            "_model_module_version": "1.5.0",
            "value": " 29696/? [00:00&lt;00:00, 436549.26it/s]",
            "_view_count": null,
            "_view_module_version": "1.5.0",
            "description_tooltip": null,
            "_model_module": "@jupyter-widgets/controls",
            "layout": "IPY_MODEL_e6bbb282b8d949a5a5ab3bc8565a45b1"
          }
        },
        "ff99d3d97c1a4cc2a0e87415479e151e": {
          "model_module": "@jupyter-widgets/controls",
          "model_name": "ProgressStyleModel",
          "state": {
            "_view_name": "StyleView",
            "_model_name": "ProgressStyleModel",
            "description_width": "initial",
            "_view_module": "@jupyter-widgets/base",
            "_model_module_version": "1.5.0",
            "_view_count": null,
            "_view_module_version": "1.2.0",
            "bar_color": null,
            "_model_module": "@jupyter-widgets/controls"
          }
        },
        "d842d11aee1442ef80623ba64891985f": {
          "model_module": "@jupyter-widgets/base",
          "model_name": "LayoutModel",
          "state": {
            "_view_name": "LayoutView",
            "grid_template_rows": null,
            "right": null,
            "justify_content": null,
            "_view_module": "@jupyter-widgets/base",
            "overflow": null,
            "_model_module_version": "1.2.0",
            "_view_count": null,
            "flex_flow": null,
            "width": null,
            "min_width": null,
            "border": null,
            "align_items": null,
            "bottom": null,
            "_model_module": "@jupyter-widgets/base",
            "top": null,
            "grid_column": null,
            "overflow_y": null,
            "overflow_x": null,
            "grid_auto_flow": null,
            "grid_area": null,
            "grid_template_columns": null,
            "flex": null,
            "_model_name": "LayoutModel",
            "justify_items": null,
            "grid_row": null,
            "max_height": null,
            "align_content": null,
            "visibility": null,
            "align_self": null,
            "height": null,
            "min_height": null,
            "padding": null,
            "grid_auto_rows": null,
            "grid_gap": null,
            "max_width": null,
            "order": null,
            "_view_module_version": "1.2.0",
            "grid_template_areas": null,
            "object_position": null,
            "object_fit": null,
            "grid_auto_columns": null,
            "margin": null,
            "display": null,
            "left": null
          }
        },
        "e215a0ecd74241e1ac382c13d15df8cc": {
          "model_module": "@jupyter-widgets/controls",
          "model_name": "DescriptionStyleModel",
          "state": {
            "_view_name": "StyleView",
            "_model_name": "DescriptionStyleModel",
            "description_width": "",
            "_view_module": "@jupyter-widgets/base",
            "_model_module_version": "1.5.0",
            "_view_count": null,
            "_view_module_version": "1.2.0",
            "_model_module": "@jupyter-widgets/controls"
          }
        },
        "e6bbb282b8d949a5a5ab3bc8565a45b1": {
          "model_module": "@jupyter-widgets/base",
          "model_name": "LayoutModel",
          "state": {
            "_view_name": "LayoutView",
            "grid_template_rows": null,
            "right": null,
            "justify_content": null,
            "_view_module": "@jupyter-widgets/base",
            "overflow": null,
            "_model_module_version": "1.2.0",
            "_view_count": null,
            "flex_flow": null,
            "width": null,
            "min_width": null,
            "border": null,
            "align_items": null,
            "bottom": null,
            "_model_module": "@jupyter-widgets/base",
            "top": null,
            "grid_column": null,
            "overflow_y": null,
            "overflow_x": null,
            "grid_auto_flow": null,
            "grid_area": null,
            "grid_template_columns": null,
            "flex": null,
            "_model_name": "LayoutModel",
            "justify_items": null,
            "grid_row": null,
            "max_height": null,
            "align_content": null,
            "visibility": null,
            "align_self": null,
            "height": null,
            "min_height": null,
            "padding": null,
            "grid_auto_rows": null,
            "grid_gap": null,
            "max_width": null,
            "order": null,
            "_view_module_version": "1.2.0",
            "grid_template_areas": null,
            "object_position": null,
            "object_fit": null,
            "grid_auto_columns": null,
            "margin": null,
            "display": null,
            "left": null
          }
        },
        "b8c5147669b642c3981c7c70e9493224": {
          "model_module": "@jupyter-widgets/controls",
          "model_name": "HBoxModel",
          "state": {
            "_view_name": "HBoxView",
            "_dom_classes": [],
            "_model_name": "HBoxModel",
            "_view_module": "@jupyter-widgets/controls",
            "_model_module_version": "1.5.0",
            "_view_count": null,
            "_view_module_version": "1.5.0",
            "box_style": "",
            "layout": "IPY_MODEL_15808367043441bd988d0e6b0f4b76d5",
            "_model_module": "@jupyter-widgets/controls",
            "children": [
              "IPY_MODEL_61a5c2109d0840e99c92e21a48e5c0bd",
              "IPY_MODEL_07e1ab8f7d674d6f80831af1ffda4292"
            ]
          }
        },
        "15808367043441bd988d0e6b0f4b76d5": {
          "model_module": "@jupyter-widgets/base",
          "model_name": "LayoutModel",
          "state": {
            "_view_name": "LayoutView",
            "grid_template_rows": null,
            "right": null,
            "justify_content": null,
            "_view_module": "@jupyter-widgets/base",
            "overflow": null,
            "_model_module_version": "1.2.0",
            "_view_count": null,
            "flex_flow": null,
            "width": null,
            "min_width": null,
            "border": null,
            "align_items": null,
            "bottom": null,
            "_model_module": "@jupyter-widgets/base",
            "top": null,
            "grid_column": null,
            "overflow_y": null,
            "overflow_x": null,
            "grid_auto_flow": null,
            "grid_area": null,
            "grid_template_columns": null,
            "flex": null,
            "_model_name": "LayoutModel",
            "justify_items": null,
            "grid_row": null,
            "max_height": null,
            "align_content": null,
            "visibility": null,
            "align_self": null,
            "height": null,
            "min_height": null,
            "padding": null,
            "grid_auto_rows": null,
            "grid_gap": null,
            "max_width": null,
            "order": null,
            "_view_module_version": "1.2.0",
            "grid_template_areas": null,
            "object_position": null,
            "object_fit": null,
            "grid_auto_columns": null,
            "margin": null,
            "display": null,
            "left": null
          }
        },
        "61a5c2109d0840e99c92e21a48e5c0bd": {
          "model_module": "@jupyter-widgets/controls",
          "model_name": "FloatProgressModel",
          "state": {
            "_view_name": "ProgressView",
            "style": "IPY_MODEL_938cc3fb9d94445c980368dbe1bd19bb",
            "_dom_classes": [],
            "description": "",
            "_model_name": "FloatProgressModel",
            "bar_style": "success",
            "max": 1648877,
            "_view_module": "@jupyter-widgets/controls",
            "_model_module_version": "1.5.0",
            "value": 1648877,
            "_view_count": null,
            "_view_module_version": "1.5.0",
            "orientation": "horizontal",
            "min": 0,
            "description_tooltip": null,
            "_model_module": "@jupyter-widgets/controls",
            "layout": "IPY_MODEL_f9d6e82c7beb45b2a1868caffc7e472b"
          }
        },
        "07e1ab8f7d674d6f80831af1ffda4292": {
          "model_module": "@jupyter-widgets/controls",
          "model_name": "HTMLModel",
          "state": {
            "_view_name": "HTMLView",
            "style": "IPY_MODEL_dda7344433014a47ab86928daf15431f",
            "_dom_classes": [],
            "description": "",
            "_model_name": "HTMLModel",
            "placeholder": "​",
            "_view_module": "@jupyter-widgets/controls",
            "_model_module_version": "1.5.0",
            "value": " 1649664/? [00:01&lt;00:00, 1074068.18it/s]",
            "_view_count": null,
            "_view_module_version": "1.5.0",
            "description_tooltip": null,
            "_model_module": "@jupyter-widgets/controls",
            "layout": "IPY_MODEL_f5030980de104260ba708cfb92b946f4"
          }
        },
        "938cc3fb9d94445c980368dbe1bd19bb": {
          "model_module": "@jupyter-widgets/controls",
          "model_name": "ProgressStyleModel",
          "state": {
            "_view_name": "StyleView",
            "_model_name": "ProgressStyleModel",
            "description_width": "initial",
            "_view_module": "@jupyter-widgets/base",
            "_model_module_version": "1.5.0",
            "_view_count": null,
            "_view_module_version": "1.2.0",
            "bar_color": null,
            "_model_module": "@jupyter-widgets/controls"
          }
        },
        "f9d6e82c7beb45b2a1868caffc7e472b": {
          "model_module": "@jupyter-widgets/base",
          "model_name": "LayoutModel",
          "state": {
            "_view_name": "LayoutView",
            "grid_template_rows": null,
            "right": null,
            "justify_content": null,
            "_view_module": "@jupyter-widgets/base",
            "overflow": null,
            "_model_module_version": "1.2.0",
            "_view_count": null,
            "flex_flow": null,
            "width": null,
            "min_width": null,
            "border": null,
            "align_items": null,
            "bottom": null,
            "_model_module": "@jupyter-widgets/base",
            "top": null,
            "grid_column": null,
            "overflow_y": null,
            "overflow_x": null,
            "grid_auto_flow": null,
            "grid_area": null,
            "grid_template_columns": null,
            "flex": null,
            "_model_name": "LayoutModel",
            "justify_items": null,
            "grid_row": null,
            "max_height": null,
            "align_content": null,
            "visibility": null,
            "align_self": null,
            "height": null,
            "min_height": null,
            "padding": null,
            "grid_auto_rows": null,
            "grid_gap": null,
            "max_width": null,
            "order": null,
            "_view_module_version": "1.2.0",
            "grid_template_areas": null,
            "object_position": null,
            "object_fit": null,
            "grid_auto_columns": null,
            "margin": null,
            "display": null,
            "left": null
          }
        },
        "dda7344433014a47ab86928daf15431f": {
          "model_module": "@jupyter-widgets/controls",
          "model_name": "DescriptionStyleModel",
          "state": {
            "_view_name": "StyleView",
            "_model_name": "DescriptionStyleModel",
            "description_width": "",
            "_view_module": "@jupyter-widgets/base",
            "_model_module_version": "1.5.0",
            "_view_count": null,
            "_view_module_version": "1.2.0",
            "_model_module": "@jupyter-widgets/controls"
          }
        },
        "f5030980de104260ba708cfb92b946f4": {
          "model_module": "@jupyter-widgets/base",
          "model_name": "LayoutModel",
          "state": {
            "_view_name": "LayoutView",
            "grid_template_rows": null,
            "right": null,
            "justify_content": null,
            "_view_module": "@jupyter-widgets/base",
            "overflow": null,
            "_model_module_version": "1.2.0",
            "_view_count": null,
            "flex_flow": null,
            "width": null,
            "min_width": null,
            "border": null,
            "align_items": null,
            "bottom": null,
            "_model_module": "@jupyter-widgets/base",
            "top": null,
            "grid_column": null,
            "overflow_y": null,
            "overflow_x": null,
            "grid_auto_flow": null,
            "grid_area": null,
            "grid_template_columns": null,
            "flex": null,
            "_model_name": "LayoutModel",
            "justify_items": null,
            "grid_row": null,
            "max_height": null,
            "align_content": null,
            "visibility": null,
            "align_self": null,
            "height": null,
            "min_height": null,
            "padding": null,
            "grid_auto_rows": null,
            "grid_gap": null,
            "max_width": null,
            "order": null,
            "_view_module_version": "1.2.0",
            "grid_template_areas": null,
            "object_position": null,
            "object_fit": null,
            "grid_auto_columns": null,
            "margin": null,
            "display": null,
            "left": null
          }
        },
        "7b918f43c7d24945acb2d40bc3ebd6e9": {
          "model_module": "@jupyter-widgets/controls",
          "model_name": "HBoxModel",
          "state": {
            "_view_name": "HBoxView",
            "_dom_classes": [],
            "_model_name": "HBoxModel",
            "_view_module": "@jupyter-widgets/controls",
            "_model_module_version": "1.5.0",
            "_view_count": null,
            "_view_module_version": "1.5.0",
            "box_style": "",
            "layout": "IPY_MODEL_9c4aeb148bcb4be8aae9cbc49c49ac30",
            "_model_module": "@jupyter-widgets/controls",
            "children": [
              "IPY_MODEL_a66a5e21f6174e27918e425e50010178",
              "IPY_MODEL_20b920bb3e7a4b21823568ea7a19e106"
            ]
          }
        },
        "9c4aeb148bcb4be8aae9cbc49c49ac30": {
          "model_module": "@jupyter-widgets/base",
          "model_name": "LayoutModel",
          "state": {
            "_view_name": "LayoutView",
            "grid_template_rows": null,
            "right": null,
            "justify_content": null,
            "_view_module": "@jupyter-widgets/base",
            "overflow": null,
            "_model_module_version": "1.2.0",
            "_view_count": null,
            "flex_flow": null,
            "width": null,
            "min_width": null,
            "border": null,
            "align_items": null,
            "bottom": null,
            "_model_module": "@jupyter-widgets/base",
            "top": null,
            "grid_column": null,
            "overflow_y": null,
            "overflow_x": null,
            "grid_auto_flow": null,
            "grid_area": null,
            "grid_template_columns": null,
            "flex": null,
            "_model_name": "LayoutModel",
            "justify_items": null,
            "grid_row": null,
            "max_height": null,
            "align_content": null,
            "visibility": null,
            "align_self": null,
            "height": null,
            "min_height": null,
            "padding": null,
            "grid_auto_rows": null,
            "grid_gap": null,
            "max_width": null,
            "order": null,
            "_view_module_version": "1.2.0",
            "grid_template_areas": null,
            "object_position": null,
            "object_fit": null,
            "grid_auto_columns": null,
            "margin": null,
            "display": null,
            "left": null
          }
        },
        "a66a5e21f6174e27918e425e50010178": {
          "model_module": "@jupyter-widgets/controls",
          "model_name": "FloatProgressModel",
          "state": {
            "_view_name": "ProgressView",
            "style": "IPY_MODEL_79a5ecfa74fe453984feaacc38c927e8",
            "_dom_classes": [],
            "description": "",
            "_model_name": "FloatProgressModel",
            "bar_style": "success",
            "max": 4542,
            "_view_module": "@jupyter-widgets/controls",
            "_model_module_version": "1.5.0",
            "value": 4542,
            "_view_count": null,
            "_view_module_version": "1.5.0",
            "orientation": "horizontal",
            "min": 0,
            "description_tooltip": null,
            "_model_module": "@jupyter-widgets/controls",
            "layout": "IPY_MODEL_d0385a498c0c43db97c9cde0a412a092"
          }
        },
        "20b920bb3e7a4b21823568ea7a19e106": {
          "model_module": "@jupyter-widgets/controls",
          "model_name": "HTMLModel",
          "state": {
            "_view_name": "HTMLView",
            "style": "IPY_MODEL_0a32418f66584b6d8479d2554656edca",
            "_dom_classes": [],
            "description": "",
            "_model_name": "HTMLModel",
            "placeholder": "​",
            "_view_module": "@jupyter-widgets/controls",
            "_model_module_version": "1.5.0",
            "value": " 5120/? [00:00&lt;00:00, 16360.12it/s]",
            "_view_count": null,
            "_view_module_version": "1.5.0",
            "description_tooltip": null,
            "_model_module": "@jupyter-widgets/controls",
            "layout": "IPY_MODEL_8c87f00970f043a3923f66bcbf85be96"
          }
        },
        "79a5ecfa74fe453984feaacc38c927e8": {
          "model_module": "@jupyter-widgets/controls",
          "model_name": "ProgressStyleModel",
          "state": {
            "_view_name": "StyleView",
            "_model_name": "ProgressStyleModel",
            "description_width": "initial",
            "_view_module": "@jupyter-widgets/base",
            "_model_module_version": "1.5.0",
            "_view_count": null,
            "_view_module_version": "1.2.0",
            "bar_color": null,
            "_model_module": "@jupyter-widgets/controls"
          }
        },
        "d0385a498c0c43db97c9cde0a412a092": {
          "model_module": "@jupyter-widgets/base",
          "model_name": "LayoutModel",
          "state": {
            "_view_name": "LayoutView",
            "grid_template_rows": null,
            "right": null,
            "justify_content": null,
            "_view_module": "@jupyter-widgets/base",
            "overflow": null,
            "_model_module_version": "1.2.0",
            "_view_count": null,
            "flex_flow": null,
            "width": null,
            "min_width": null,
            "border": null,
            "align_items": null,
            "bottom": null,
            "_model_module": "@jupyter-widgets/base",
            "top": null,
            "grid_column": null,
            "overflow_y": null,
            "overflow_x": null,
            "grid_auto_flow": null,
            "grid_area": null,
            "grid_template_columns": null,
            "flex": null,
            "_model_name": "LayoutModel",
            "justify_items": null,
            "grid_row": null,
            "max_height": null,
            "align_content": null,
            "visibility": null,
            "align_self": null,
            "height": null,
            "min_height": null,
            "padding": null,
            "grid_auto_rows": null,
            "grid_gap": null,
            "max_width": null,
            "order": null,
            "_view_module_version": "1.2.0",
            "grid_template_areas": null,
            "object_position": null,
            "object_fit": null,
            "grid_auto_columns": null,
            "margin": null,
            "display": null,
            "left": null
          }
        },
        "0a32418f66584b6d8479d2554656edca": {
          "model_module": "@jupyter-widgets/controls",
          "model_name": "DescriptionStyleModel",
          "state": {
            "_view_name": "StyleView",
            "_model_name": "DescriptionStyleModel",
            "description_width": "",
            "_view_module": "@jupyter-widgets/base",
            "_model_module_version": "1.5.0",
            "_view_count": null,
            "_view_module_version": "1.2.0",
            "_model_module": "@jupyter-widgets/controls"
          }
        },
        "8c87f00970f043a3923f66bcbf85be96": {
          "model_module": "@jupyter-widgets/base",
          "model_name": "LayoutModel",
          "state": {
            "_view_name": "LayoutView",
            "grid_template_rows": null,
            "right": null,
            "justify_content": null,
            "_view_module": "@jupyter-widgets/base",
            "overflow": null,
            "_model_module_version": "1.2.0",
            "_view_count": null,
            "flex_flow": null,
            "width": null,
            "min_width": null,
            "border": null,
            "align_items": null,
            "bottom": null,
            "_model_module": "@jupyter-widgets/base",
            "top": null,
            "grid_column": null,
            "overflow_y": null,
            "overflow_x": null,
            "grid_auto_flow": null,
            "grid_area": null,
            "grid_template_columns": null,
            "flex": null,
            "_model_name": "LayoutModel",
            "justify_items": null,
            "grid_row": null,
            "max_height": null,
            "align_content": null,
            "visibility": null,
            "align_self": null,
            "height": null,
            "min_height": null,
            "padding": null,
            "grid_auto_rows": null,
            "grid_gap": null,
            "max_width": null,
            "order": null,
            "_view_module_version": "1.2.0",
            "grid_template_areas": null,
            "object_position": null,
            "object_fit": null,
            "grid_auto_columns": null,
            "margin": null,
            "display": null,
            "left": null
          }
        }
      }
    }
  },
  "cells": [
    {
      "cell_type": "markdown",
      "metadata": {
        "id": "view-in-github",
        "colab_type": "text"
      },
      "source": [
        "<a href=\"https://colab.research.google.com/github/praveen-pethurajan/EVA6/blob/main/session6/Normalization.ipynb\" target=\"_parent\"><img src=\"https://colab.research.google.com/assets/colab-badge.svg\" alt=\"Open In Colab\"/></a>"
      ]
    },
    {
      "cell_type": "code",
      "metadata": {
        "id": "Azjlc2eha47c"
      },
      "source": [
        "import sys\n",
        "import os\n",
        "\n",
        "py_file_location = '/content/drive/My Drive/Colab Notebooks/'\n",
        "sys.path.append(os.path.abspath(py_file_location))\n",
        "\n",
        "import model"
      ],
      "execution_count": null,
      "outputs": []
    },
    {
      "cell_type": "code",
      "metadata": {
        "colab": {
          "base_uri": "https://localhost:8080/",
          "height": 1000,
          "referenced_widgets": [
            "428115bf7ae345018033363167179578",
            "b5c6a9fd8c33475eacbef87a7a3b396e",
            "6c77d8f8f8d6493595f82d6ea1d77d83",
            "5af3adfdbabb4917bd75d2201306cba3",
            "caa77f3c550d42a7b9b17aaa755e166b",
            "cd7abb4ebc0b48798d5fe3053a8c4fda",
            "c03005b189ad48f9b0eaae24a687c8d8",
            "8f17dfe5e8224179a8751f33858ba116",
            "fd3d3251f04b4d77a52f371ab1196d10",
            "42e21414847345fe8a68ab7c098b695e",
            "57cfb960da5f4d439d8d4ea94aed74db",
            "6723636106554d548db37ccda34baf00",
            "ff99d3d97c1a4cc2a0e87415479e151e",
            "d842d11aee1442ef80623ba64891985f",
            "e215a0ecd74241e1ac382c13d15df8cc",
            "e6bbb282b8d949a5a5ab3bc8565a45b1",
            "b8c5147669b642c3981c7c70e9493224",
            "15808367043441bd988d0e6b0f4b76d5",
            "61a5c2109d0840e99c92e21a48e5c0bd",
            "07e1ab8f7d674d6f80831af1ffda4292",
            "938cc3fb9d94445c980368dbe1bd19bb",
            "f9d6e82c7beb45b2a1868caffc7e472b",
            "dda7344433014a47ab86928daf15431f",
            "f5030980de104260ba708cfb92b946f4",
            "7b918f43c7d24945acb2d40bc3ebd6e9",
            "9c4aeb148bcb4be8aae9cbc49c49ac30",
            "a66a5e21f6174e27918e425e50010178",
            "20b920bb3e7a4b21823568ea7a19e106",
            "79a5ecfa74fe453984feaacc38c927e8",
            "d0385a498c0c43db97c9cde0a412a092",
            "0a32418f66584b6d8479d2554656edca",
            "8c87f00970f043a3923f66bcbf85be96"
          ]
        },
        "id": "UyOAtK9vgg1A",
        "outputId": "e4c2939d-5881-4a9c-d04c-f825b0c9a0ca"
      },
      "source": [
        "model.normalize_3_way('layer')"
      ],
      "execution_count": null,
      "outputs": [
        {
          "output_type": "stream",
          "text": [
            "Downloading http://yann.lecun.com/exdb/mnist/train-images-idx3-ubyte.gz\n",
            "Failed to download (trying next):\n",
            "HTTP Error 503: Service Unavailable\n",
            "\n",
            "Downloading https://ossci-datasets.s3.amazonaws.com/mnist/train-images-idx3-ubyte.gz\n",
            "Downloading https://ossci-datasets.s3.amazonaws.com/mnist/train-images-idx3-ubyte.gz to ../data/MNIST/raw/train-images-idx3-ubyte.gz\n"
          ],
          "name": "stdout"
        },
        {
          "output_type": "display_data",
          "data": {
            "application/vnd.jupyter.widget-view+json": {
              "model_id": "428115bf7ae345018033363167179578",
              "version_minor": 0,
              "version_major": 2
            },
            "text/plain": [
              "HBox(children=(FloatProgress(value=0.0, max=9912422.0), HTML(value='')))"
            ]
          },
          "metadata": {
            "tags": []
          }
        },
        {
          "output_type": "stream",
          "text": [
            "\n",
            "Extracting ../data/MNIST/raw/train-images-idx3-ubyte.gz to ../data/MNIST/raw\n",
            "\n",
            "Downloading http://yann.lecun.com/exdb/mnist/train-labels-idx1-ubyte.gz\n",
            "Failed to download (trying next):\n",
            "HTTP Error 503: Service Unavailable\n",
            "\n",
            "Downloading https://ossci-datasets.s3.amazonaws.com/mnist/train-labels-idx1-ubyte.gz\n",
            "Downloading https://ossci-datasets.s3.amazonaws.com/mnist/train-labels-idx1-ubyte.gz to ../data/MNIST/raw/train-labels-idx1-ubyte.gz\n"
          ],
          "name": "stdout"
        },
        {
          "output_type": "display_data",
          "data": {
            "application/vnd.jupyter.widget-view+json": {
              "model_id": "fd3d3251f04b4d77a52f371ab1196d10",
              "version_minor": 0,
              "version_major": 2
            },
            "text/plain": [
              "HBox(children=(FloatProgress(value=0.0, max=28881.0), HTML(value='')))"
            ]
          },
          "metadata": {
            "tags": []
          }
        },
        {
          "output_type": "stream",
          "text": [
            "\n",
            "Extracting ../data/MNIST/raw/train-labels-idx1-ubyte.gz to ../data/MNIST/raw\n",
            "\n",
            "Downloading http://yann.lecun.com/exdb/mnist/t10k-images-idx3-ubyte.gz\n",
            "Failed to download (trying next):\n",
            "HTTP Error 503: Service Unavailable\n",
            "\n",
            "Downloading https://ossci-datasets.s3.amazonaws.com/mnist/t10k-images-idx3-ubyte.gz\n",
            "Downloading https://ossci-datasets.s3.amazonaws.com/mnist/t10k-images-idx3-ubyte.gz to ../data/MNIST/raw/t10k-images-idx3-ubyte.gz\n"
          ],
          "name": "stdout"
        },
        {
          "output_type": "display_data",
          "data": {
            "application/vnd.jupyter.widget-view+json": {
              "model_id": "b8c5147669b642c3981c7c70e9493224",
              "version_minor": 0,
              "version_major": 2
            },
            "text/plain": [
              "HBox(children=(FloatProgress(value=0.0, max=1648877.0), HTML(value='')))"
            ]
          },
          "metadata": {
            "tags": []
          }
        },
        {
          "output_type": "stream",
          "text": [
            "\n",
            "Extracting ../data/MNIST/raw/t10k-images-idx3-ubyte.gz to ../data/MNIST/raw\n",
            "\n",
            "Downloading http://yann.lecun.com/exdb/mnist/t10k-labels-idx1-ubyte.gz\n",
            "Failed to download (trying next):\n",
            "HTTP Error 503: Service Unavailable\n",
            "\n",
            "Downloading https://ossci-datasets.s3.amazonaws.com/mnist/t10k-labels-idx1-ubyte.gz\n",
            "Downloading https://ossci-datasets.s3.amazonaws.com/mnist/t10k-labels-idx1-ubyte.gz to ../data/MNIST/raw/t10k-labels-idx1-ubyte.gz\n"
          ],
          "name": "stdout"
        },
        {
          "output_type": "display_data",
          "data": {
            "application/vnd.jupyter.widget-view+json": {
              "model_id": "7b918f43c7d24945acb2d40bc3ebd6e9",
              "version_minor": 0,
              "version_major": 2
            },
            "text/plain": [
              "HBox(children=(FloatProgress(value=0.0, max=4542.0), HTML(value='')))"
            ]
          },
          "metadata": {
            "tags": []
          }
        },
        {
          "output_type": "stream",
          "text": [
            "\n",
            "Extracting ../data/MNIST/raw/t10k-labels-idx1-ubyte.gz to ../data/MNIST/raw\n",
            "\n",
            "Processing...\n",
            "Done!\n"
          ],
          "name": "stdout"
        },
        {
          "output_type": "stream",
          "text": [
            "/usr/local/lib/python3.7/dist-packages/torchvision/datasets/mnist.py:502: UserWarning: The given NumPy array is not writeable, and PyTorch does not support non-writeable tensors. This means you can write to the underlying (supposedly non-writeable) NumPy array using the tensor. You may want to copy the array to protect its data or make it writeable before converting it to a tensor. This type of warning will be suppressed for the rest of this program. (Triggered internally at  /pytorch/torch/csrc/utils/tensor_numpy.cpp:143.)\n",
            "  return torch.from_numpy(parsed.astype(m[2], copy=False)).view(*s)\n"
          ],
          "name": "stderr"
        },
        {
          "output_type": "stream",
          "text": [
            "cuda\n",
            "----------------------------------------------------------------\n",
            "        Layer (type)               Output Shape         Param #\n",
            "================================================================\n",
            "            Conv2d-1            [-1, 8, 26, 26]              80\n",
            "              ReLU-2            [-1, 8, 26, 26]               0\n",
            "         LayerNorm-3            [-1, 8, 26, 26]          10,816\n",
            "           Dropout-4            [-1, 8, 26, 26]               0\n",
            "            Conv2d-5            [-1, 8, 24, 24]             584\n",
            "              ReLU-6            [-1, 8, 24, 24]               0\n",
            "         LayerNorm-7            [-1, 8, 24, 24]           9,216\n",
            "           Dropout-8            [-1, 8, 24, 24]               0\n",
            "            Conv2d-9           [-1, 12, 22, 22]             876\n",
            "             ReLU-10           [-1, 12, 22, 22]               0\n",
            "        LayerNorm-11           [-1, 12, 22, 22]          11,616\n",
            "          Dropout-12           [-1, 12, 22, 22]               0\n",
            "        MaxPool2d-13           [-1, 12, 11, 11]               0\n",
            "           Conv2d-14             [-1, 12, 9, 9]           1,308\n",
            "             ReLU-15             [-1, 12, 9, 9]               0\n",
            "        LayerNorm-16             [-1, 12, 9, 9]           1,944\n",
            "          Dropout-17             [-1, 12, 9, 9]               0\n",
            "           Conv2d-18             [-1, 16, 7, 7]           1,744\n",
            "             ReLU-19             [-1, 16, 7, 7]               0\n",
            "        LayerNorm-20             [-1, 16, 7, 7]           1,568\n",
            "          Dropout-21             [-1, 16, 7, 7]               0\n",
            "           Conv2d-22             [-1, 20, 5, 5]           2,900\n",
            "             ReLU-23             [-1, 20, 5, 5]               0\n",
            "        LayerNorm-24             [-1, 20, 5, 5]           1,000\n",
            "          Dropout-25             [-1, 20, 5, 5]               0\n",
            "        AvgPool2d-26             [-1, 20, 1, 1]               0\n",
            "           Conv2d-27             [-1, 10, 1, 1]             210\n",
            "================================================================\n",
            "Total params: 43,862\n",
            "Trainable params: 43,862\n",
            "Non-trainable params: 0\n",
            "----------------------------------------------------------------\n",
            "Input size (MB): 0.00\n",
            "Forward/backward pass size (MB): 0.56\n",
            "Params size (MB): 0.17\n",
            "Estimated Total Size (MB): 0.73\n",
            "----------------------------------------------------------------\n",
            "EPOCH: 1 LR =  [0.1]\n"
          ],
          "name": "stdout"
        },
        {
          "output_type": "stream",
          "text": [
            "/usr/local/lib/python3.7/dist-packages/torch/optim/lr_scheduler.py:370: UserWarning: To get the last learning rate computed by the scheduler, please use `get_last_lr()`.\n",
            "  \"please use `get_last_lr()`.\", UserWarning)\n"
          ],
          "name": "stderr"
        },
        {
          "output_type": "stream",
          "text": [
            "Train set: Accuracy=89.8\n",
            "Loss -  tensor(0.1620, device='cuda:0', grad_fn=<NllLossBackward>)\n",
            "Test set: Average loss: 0.0782, Accuracy: 9800/10000 (98.0%)\n",
            "\n",
            "EPOCH: 2 LR =  [0.1]\n",
            "Train set: Accuracy=97.6\n",
            "Loss -  tensor(0.0993, device='cuda:0', grad_fn=<NllLossBackward>)\n",
            "Test set: Average loss: 0.0674, Accuracy: 9841/10000 (98.4%)\n",
            "\n",
            "EPOCH: 3 LR =  [0.1]\n",
            "Train set: Accuracy=97.9\n",
            "Loss -  tensor(0.1531, device='cuda:0', grad_fn=<NllLossBackward>)\n",
            "Test set: Average loss: 0.0773, Accuracy: 9792/10000 (97.9%)\n",
            "\n",
            "EPOCH: 4 LR =  [0.1]\n",
            "Train set: Accuracy=97.8\n",
            "Loss -  tensor(0.1067, device='cuda:0', grad_fn=<NllLossBackward>)\n",
            "Test set: Average loss: 0.0592, Accuracy: 9853/10000 (98.5%)\n",
            "\n",
            "EPOCH: 5 LR =  [0.1]\n",
            "Train set: Accuracy=97.7\n",
            "Loss -  tensor(0.1516, device='cuda:0', grad_fn=<NllLossBackward>)\n",
            "Test set: Average loss: 0.0655, Accuracy: 9840/10000 (98.4%)\n",
            "\n",
            "EPOCH: 6 LR =  [0.1]\n",
            "Train set: Accuracy=97.3\n",
            "Loss -  tensor(0.0858, device='cuda:0', grad_fn=<NllLossBackward>)\n",
            "Test set: Average loss: 0.1145, Accuracy: 9691/10000 (96.9%)\n",
            "\n",
            "EPOCH: 7 LR =  [0.0010000000000000002]\n",
            "Train set: Accuracy=98.7\n",
            "Loss -  tensor(0.0775, device='cuda:0', grad_fn=<NllLossBackward>)\n",
            "Test set: Average loss: 0.0378, Accuracy: 9914/10000 (99.1%)\n",
            "\n",
            "EPOCH: 8 LR =  [0.010000000000000002]\n",
            "Train set: Accuracy=98.9\n",
            "Loss -  tensor(0.0557, device='cuda:0', grad_fn=<NllLossBackward>)\n",
            "Test set: Average loss: 0.0380, Accuracy: 9914/10000 (99.1%)\n",
            "\n",
            "EPOCH: 9 LR =  [0.010000000000000002]\n",
            "Train set: Accuracy=99.0\n",
            "Loss -  tensor(0.0647, device='cuda:0', grad_fn=<NllLossBackward>)\n",
            "Test set: Average loss: 0.0356, Accuracy: 9923/10000 (99.2%)\n",
            "\n",
            "EPOCH: 10 LR =  [0.010000000000000002]\n",
            "Train set: Accuracy=99.0\n",
            "Loss -  tensor(0.0795, device='cuda:0', grad_fn=<NllLossBackward>)\n",
            "Test set: Average loss: 0.0348, Accuracy: 9928/10000 (99.3%)\n",
            "\n",
            "EPOCH: 11 LR =  [0.010000000000000002]\n",
            "Train set: Accuracy=99.0\n",
            "Loss -  tensor(0.0264, device='cuda:0', grad_fn=<NllLossBackward>)\n",
            "Test set: Average loss: 0.0353, Accuracy: 9919/10000 (99.2%)\n",
            "\n",
            "EPOCH: 12 LR =  [0.010000000000000002]\n",
            "Train set: Accuracy=99.0\n",
            "Loss -  tensor(0.0213, device='cuda:0', grad_fn=<NllLossBackward>)\n",
            "Test set: Average loss: 0.0356, Accuracy: 9917/10000 (99.2%)\n",
            "\n",
            "EPOCH: 13 LR =  [0.00010000000000000003]\n",
            "Train set: Accuracy=99.2\n",
            "Loss -  tensor(0.0390, device='cuda:0', grad_fn=<NllLossBackward>)\n",
            "Test set: Average loss: 0.0325, Accuracy: 9922/10000 (99.2%)\n",
            "\n",
            "EPOCH: 14 LR =  [0.0010000000000000002]\n",
            "Train set: Accuracy=99.3\n",
            "Loss -  tensor(0.0179, device='cuda:0', grad_fn=<NllLossBackward>)\n",
            "Test set: Average loss: 0.0315, Accuracy: 9933/10000 (99.3%)\n",
            "\n",
            "EPOCH: 15 LR =  [0.0010000000000000002]\n",
            "Train set: Accuracy=99.3\n",
            "Loss -  tensor(0.0124, device='cuda:0', grad_fn=<NllLossBackward>)\n",
            "Test set: Average loss: 0.0315, Accuracy: 9928/10000 (99.3%)\n",
            "\n",
            "EPOCH: 16 LR =  [0.0010000000000000002]\n",
            "Train set: Accuracy=99.3\n",
            "Loss -  tensor(0.0172, device='cuda:0', grad_fn=<NllLossBackward>)\n",
            "Test set: Average loss: 0.0322, Accuracy: 9923/10000 (99.2%)\n",
            "\n",
            "EPOCH: 17 LR =  [0.0010000000000000002]\n",
            "Train set: Accuracy=99.3\n",
            "Loss -  tensor(0.0195, device='cuda:0', grad_fn=<NllLossBackward>)\n",
            "Test set: Average loss: 0.0315, Accuracy: 9920/10000 (99.2%)\n",
            "\n",
            "EPOCH: 18 LR =  [0.0010000000000000002]\n",
            "Train set: Accuracy=99.3\n",
            "Loss -  tensor(0.0627, device='cuda:0', grad_fn=<NllLossBackward>)\n",
            "Test set: Average loss: 0.0314, Accuracy: 9928/10000 (99.3%)\n",
            "\n",
            "EPOCH: 19 LR =  [1.0000000000000004e-05]\n",
            "Train set: Accuracy=99.4\n",
            "Loss -  tensor(0.0336, device='cuda:0', grad_fn=<NllLossBackward>)\n",
            "Test set: Average loss: 0.0310, Accuracy: 9931/10000 (99.3%)\n",
            "\n"
          ],
          "name": "stdout"
        },
        {
          "output_type": "display_data",
          "data": {
            "image/png": "[encoded data removed]",
            "text/plain": [
              "<Figure size 1008x1008 with 20 Axes>"
            ]
          },
          "metadata": {
            "tags": [],
            "needs_background": "light"
          }
        }
      ]
    },
    {
      "cell_type": "code",
      "metadata": {
        "colab": {
          "base_uri": "https://localhost:8080/",
          "height": 1000
        },
        "id": "bmhcU76Kiy91",
        "outputId": "658643e5-d3f1-4d59-e729-a5198e7b4978"
      },
      "source": [
        "model.normalize_3_way('batch')"
      ],
      "execution_count": null,
      "outputs": [
        {
          "output_type": "stream",
          "text": [
            "cuda\n",
            "----------------------------------------------------------------\n",
            "        Layer (type)               Output Shape         Param #\n",
            "================================================================\n",
            "            Conv2d-1            [-1, 8, 26, 26]              80\n",
            "              ReLU-2            [-1, 8, 26, 26]               0\n",
            "       BatchNorm2d-3            [-1, 8, 26, 26]              16\n",
            "           Dropout-4            [-1, 8, 26, 26]               0\n",
            "            Conv2d-5            [-1, 8, 24, 24]             584\n",
            "              ReLU-6            [-1, 8, 24, 24]               0\n",
            "       BatchNorm2d-7            [-1, 8, 24, 24]              16\n",
            "           Dropout-8            [-1, 8, 24, 24]               0\n",
            "            Conv2d-9           [-1, 12, 22, 22]             876\n",
            "             ReLU-10           [-1, 12, 22, 22]               0\n",
            "      BatchNorm2d-11           [-1, 12, 22, 22]              24\n",
            "          Dropout-12           [-1, 12, 22, 22]               0\n",
            "        MaxPool2d-13           [-1, 12, 11, 11]               0\n",
            "           Conv2d-14             [-1, 12, 9, 9]           1,308\n",
            "             ReLU-15             [-1, 12, 9, 9]               0\n",
            "      BatchNorm2d-16             [-1, 12, 9, 9]              24\n",
            "          Dropout-17             [-1, 12, 9, 9]               0\n",
            "           Conv2d-18             [-1, 16, 7, 7]           1,744\n",
            "             ReLU-19             [-1, 16, 7, 7]               0\n",
            "      BatchNorm2d-20             [-1, 16, 7, 7]              32\n",
            "          Dropout-21             [-1, 16, 7, 7]               0\n",
            "           Conv2d-22             [-1, 20, 5, 5]           2,900\n",
            "             ReLU-23             [-1, 20, 5, 5]               0\n",
            "      BatchNorm2d-24             [-1, 20, 5, 5]              40\n",
            "          Dropout-25             [-1, 20, 5, 5]               0\n",
            "        AvgPool2d-26             [-1, 20, 1, 1]               0\n",
            "           Conv2d-27             [-1, 10, 1, 1]             210\n",
            "================================================================\n",
            "Total params: 7,854\n",
            "Trainable params: 7,854\n",
            "Non-trainable params: 0\n",
            "----------------------------------------------------------------\n",
            "Input size (MB): 0.00\n",
            "Forward/backward pass size (MB): 0.56\n",
            "Params size (MB): 0.03\n",
            "Estimated Total Size (MB): 0.60\n",
            "----------------------------------------------------------------\n",
            "EPOCH: 1 LR =  [0.1]\n"
          ],
          "name": "stdout"
        },
        {
          "output_type": "stream",
          "text": [
            "/usr/local/lib/python3.7/dist-packages/torch/optim/lr_scheduler.py:370: UserWarning: To get the last learning rate computed by the scheduler, please use `get_last_lr()`.\n",
            "  \"please use `get_last_lr()`.\", UserWarning)\n"
          ],
          "name": "stderr"
        },
        {
          "output_type": "stream",
          "text": [
            "Train set: Accuracy=94.1\n",
            "Loss =  tensor(124.9929, device='cuda:0', grad_fn=<AddBackward0>)\n",
            "L1 =  tensor(636.1438, device='cuda:0', grad_fn=<AddBackward0>)\n",
            "Test set: Average loss: 0.0867, Accuracy: 9743/10000 (97.4%)\n",
            "\n",
            "EPOCH: 2 LR =  [0.1]\n",
            "Train set: Accuracy=97.5\n",
            "Loss =  tensor(68.5514, device='cuda:0', grad_fn=<AddBackward0>)\n",
            "L1 =  tensor(596.6503, device='cuda:0', grad_fn=<AddBackward0>)\n",
            "Test set: Average loss: 0.1155, Accuracy: 9662/10000 (96.6%)\n",
            "\n",
            "EPOCH: 3 LR =  [0.1]\n",
            "Train set: Accuracy=97.6\n",
            "Loss =  tensor(64.9578, device='cuda:0', grad_fn=<AddBackward0>)\n",
            "L1 =  tensor(587.2575, device='cuda:0', grad_fn=<AddBackward0>)\n",
            "Test set: Average loss: 0.0781, Accuracy: 9789/10000 (97.9%)\n",
            "\n",
            "EPOCH: 4 LR =  [0.1]\n",
            "Train set: Accuracy=97.7\n",
            "Loss =  tensor(63.8658, device='cuda:0', grad_fn=<AddBackward0>)\n",
            "L1 =  tensor(580.9364, device='cuda:0', grad_fn=<AddBackward0>)\n",
            "Test set: Average loss: 0.0616, Accuracy: 9810/10000 (98.1%)\n",
            "\n",
            "EPOCH: 5 LR =  [0.1]\n",
            "Train set: Accuracy=97.8\n",
            "Loss =  tensor(61.1675, device='cuda:0', grad_fn=<AddBackward0>)\n",
            "L1 =  tensor(560.4750, device='cuda:0', grad_fn=<AddBackward0>)\n",
            "Test set: Average loss: 0.0547, Accuracy: 9861/10000 (98.6%)\n",
            "\n",
            "EPOCH: 6 LR =  [0.1]\n",
            "Train set: Accuracy=97.9\n",
            "Loss =  tensor(61.1291, device='cuda:0', grad_fn=<AddBackward0>)\n",
            "L1 =  tensor(552.7435, device='cuda:0', grad_fn=<AddBackward0>)\n",
            "Test set: Average loss: 0.1484, Accuracy: 9576/10000 (95.8%)\n",
            "\n",
            "EPOCH: 7 LR =  [0.0010000000000000002]\n",
            "Train set: Accuracy=98.8\n",
            "Loss =  tensor(45.4216, device='cuda:0', grad_fn=<AddBackward0>)\n",
            "L1 =  tensor(503.8932, device='cuda:0', grad_fn=<AddBackward0>)\n",
            "Test set: Average loss: 0.0236, Accuracy: 9934/10000 (99.3%)\n",
            "\n",
            "EPOCH: 8 LR =  [0.010000000000000002]\n",
            "Train set: Accuracy=98.9\n",
            "Loss =  tensor(40.8241, device='cuda:0', grad_fn=<AddBackward0>)\n",
            "L1 =  tensor(462.1379, device='cuda:0', grad_fn=<AddBackward0>)\n",
            "Test set: Average loss: 0.0242, Accuracy: 9931/10000 (99.3%)\n",
            "\n",
            "EPOCH: 9 LR =  [0.010000000000000002]\n",
            "Train set: Accuracy=99.0\n",
            "Loss =  tensor(39.0161, device='cuda:0', grad_fn=<AddBackward0>)\n",
            "L1 =  tensor(428.4819, device='cuda:0', grad_fn=<AddBackward0>)\n",
            "Test set: Average loss: 0.0222, Accuracy: 9942/10000 (99.4%)\n",
            "\n",
            "EPOCH: 10 LR =  [0.010000000000000002]\n",
            "Train set: Accuracy=99.0\n",
            "Loss =  tensor(37.3665, device='cuda:0', grad_fn=<AddBackward0>)\n",
            "L1 =  tensor(399.2835, device='cuda:0', grad_fn=<AddBackward0>)\n",
            "Test set: Average loss: 0.0263, Accuracy: 9923/10000 (99.2%)\n",
            "\n",
            "EPOCH: 11 LR =  [0.010000000000000002]\n",
            "Train set: Accuracy=99.0\n",
            "Loss =  tensor(36.4708, device='cuda:0', grad_fn=<AddBackward0>)\n",
            "L1 =  tensor(375.1410, device='cuda:0', grad_fn=<AddBackward0>)\n",
            "Test set: Average loss: 0.0255, Accuracy: 9930/10000 (99.3%)\n",
            "\n",
            "EPOCH: 12 LR =  [0.010000000000000002]\n",
            "Train set: Accuracy=99.0\n",
            "Loss =  tensor(35.4782, device='cuda:0', grad_fn=<AddBackward0>)\n",
            "L1 =  tensor(355.8240, device='cuda:0', grad_fn=<AddBackward0>)\n",
            "Test set: Average loss: 0.0272, Accuracy: 9919/10000 (99.2%)\n",
            "\n",
            "EPOCH: 13 LR =  [0.00010000000000000003]\n",
            "Train set: Accuracy=99.1\n",
            "Loss =  tensor(32.3832, device='cuda:0', grad_fn=<AddBackward0>)\n",
            "L1 =  tensor(351.4164, device='cuda:0', grad_fn=<AddBackward0>)\n",
            "Test set: Average loss: 0.0225, Accuracy: 9935/10000 (99.3%)\n",
            "\n",
            "EPOCH: 14 LR =  [0.0010000000000000002]\n",
            "Train set: Accuracy=99.2\n",
            "Loss =  tensor(31.1694, device='cuda:0', grad_fn=<AddBackward0>)\n",
            "L1 =  tensor(347.7368, device='cuda:0', grad_fn=<AddBackward0>)\n",
            "Test set: Average loss: 0.0211, Accuracy: 9939/10000 (99.4%)\n",
            "\n",
            "EPOCH: 15 LR =  [0.0010000000000000002]\n",
            "Train set: Accuracy=99.2\n",
            "Loss =  tensor(31.0436, device='cuda:0', grad_fn=<AddBackward0>)\n",
            "L1 =  tensor(344.3410, device='cuda:0', grad_fn=<AddBackward0>)\n",
            "Test set: Average loss: 0.0205, Accuracy: 9942/10000 (99.4%)\n",
            "\n",
            "EPOCH: 16 LR =  [0.0010000000000000002]\n",
            "Train set: Accuracy=99.2\n",
            "Loss =  tensor(30.4168, device='cuda:0', grad_fn=<AddBackward0>)\n",
            "L1 =  tensor(341.0302, device='cuda:0', grad_fn=<AddBackward0>)\n",
            "Test set: Average loss: 0.0216, Accuracy: 9941/10000 (99.4%)\n",
            "\n",
            "EPOCH: 17 LR =  [0.0010000000000000002]\n",
            "Train set: Accuracy=99.2\n",
            "Loss =  tensor(30.7967, device='cuda:0', grad_fn=<AddBackward0>)\n",
            "L1 =  tensor(337.9943, device='cuda:0', grad_fn=<AddBackward0>)\n",
            "Test set: Average loss: 0.0209, Accuracy: 9939/10000 (99.4%)\n",
            "\n",
            "EPOCH: 18 LR =  [0.0010000000000000002]\n",
            "Train set: Accuracy=99.2\n",
            "Loss =  tensor(30.1894, device='cuda:0', grad_fn=<AddBackward0>)\n",
            "L1 =  tensor(335.0382, device='cuda:0', grad_fn=<AddBackward0>)\n",
            "Test set: Average loss: 0.0202, Accuracy: 9944/10000 (99.4%)\n",
            "\n",
            "EPOCH: 19 LR =  [1.0000000000000004e-05]\n",
            "Train set: Accuracy=99.3\n",
            "Loss =  tensor(29.7176, device='cuda:0', grad_fn=<AddBackward0>)\n",
            "L1 =  tensor(334.6298, device='cuda:0', grad_fn=<AddBackward0>)\n",
            "Test set: Average loss: 0.0209, Accuracy: 9941/10000 (99.4%)\n",
            "\n"
          ],
          "name": "stdout"
        },
        {
          "output_type": "display_data",
          "data": {
            "image/png": "[encoded data removed]",
            "text/plain": [
              "<Figure size 1008x1008 with 20 Axes>"
            ]
          },
          "metadata": {
            "tags": [],
            "needs_background": "light"
          }
        }
      ]
    },
    {
      "cell_type": "code",
      "metadata": {
        "colab": {
          "base_uri": "https://localhost:8080/",
          "height": 1000
        },
        "id": "_6Iex8aLkM4p",
        "outputId": "e9eb6e7b-fa84-4ecb-feba-1e2b8e4721f7"
      },
      "source": [
        "model.normalize_3_way('group')"
      ],
      "execution_count": null,
      "outputs": [
        {
          "output_type": "stream",
          "text": [
            "cuda\n",
            "----------------------------------------------------------------\n",
            "        Layer (type)               Output Shape         Param #\n",
            "================================================================\n",
            "            Conv2d-1            [-1, 8, 26, 26]              80\n",
            "              ReLU-2            [-1, 8, 26, 26]               0\n",
            "         GroupNorm-3            [-1, 8, 26, 26]              16\n",
            "           Dropout-4            [-1, 8, 26, 26]               0\n",
            "            Conv2d-5            [-1, 8, 24, 24]             584\n",
            "              ReLU-6            [-1, 8, 24, 24]               0\n",
            "         GroupNorm-7            [-1, 8, 24, 24]              16\n",
            "           Dropout-8            [-1, 8, 24, 24]               0\n",
            "            Conv2d-9           [-1, 12, 22, 22]             876\n",
            "             ReLU-10           [-1, 12, 22, 22]               0\n",
            "        GroupNorm-11           [-1, 12, 22, 22]              24\n",
            "          Dropout-12           [-1, 12, 22, 22]               0\n",
            "        MaxPool2d-13           [-1, 12, 11, 11]               0\n",
            "           Conv2d-14             [-1, 12, 9, 9]           1,308\n",
            "             ReLU-15             [-1, 12, 9, 9]               0\n",
            "        GroupNorm-16             [-1, 12, 9, 9]              24\n",
            "          Dropout-17             [-1, 12, 9, 9]               0\n",
            "           Conv2d-18             [-1, 16, 7, 7]           1,744\n",
            "             ReLU-19             [-1, 16, 7, 7]               0\n",
            "        GroupNorm-20             [-1, 16, 7, 7]              32\n",
            "          Dropout-21             [-1, 16, 7, 7]               0\n",
            "           Conv2d-22             [-1, 20, 5, 5]           2,900\n",
            "             ReLU-23             [-1, 20, 5, 5]               0\n",
            "        GroupNorm-24             [-1, 20, 5, 5]              40\n",
            "          Dropout-25             [-1, 20, 5, 5]               0\n",
            "        AvgPool2d-26             [-1, 20, 1, 1]               0\n",
            "           Conv2d-27             [-1, 10, 1, 1]             210\n",
            "================================================================\n",
            "Total params: 7,854\n",
            "Trainable params: 7,854\n",
            "Non-trainable params: 0\n",
            "----------------------------------------------------------------\n",
            "Input size (MB): 0.00\n",
            "Forward/backward pass size (MB): 0.56\n",
            "Params size (MB): 0.03\n",
            "Estimated Total Size (MB): 0.60\n",
            "----------------------------------------------------------------\n",
            "EPOCH: 1 LR =  [0.1]\n"
          ],
          "name": "stdout"
        },
        {
          "output_type": "stream",
          "text": [
            "/usr/local/lib/python3.7/dist-packages/torch/optim/lr_scheduler.py:370: UserWarning: To get the last learning rate computed by the scheduler, please use `get_last_lr()`.\n",
            "  \"please use `get_last_lr()`.\", UserWarning)\n"
          ],
          "name": "stderr"
        },
        {
          "output_type": "stream",
          "text": [
            "Loss =  tensor(0.2272, device='cuda:0', grad_fn=<AddBackward0>)\n",
            "L1 =  tensor(878.4124, device='cuda:0', grad_fn=<AddBackward0>)\n",
            "Train set: Accuracy=92.8\n",
            "Test set: Average loss: 0.0515, Accuracy: 9844/10000 (98.4%)\n",
            "\n",
            "EPOCH: 2 LR =  [0.1]\n",
            "Loss =  tensor(0.1594, device='cuda:0', grad_fn=<AddBackward0>)\n",
            "L1 =  tensor(894.6478, device='cuda:0', grad_fn=<AddBackward0>)\n",
            "Train set: Accuracy=97.6\n",
            "Test set: Average loss: 0.0474, Accuracy: 9851/10000 (98.5%)\n",
            "\n",
            "EPOCH: 3 LR =  [0.1]\n",
            "Loss =  tensor(0.2019, device='cuda:0', grad_fn=<AddBackward0>)\n",
            "L1 =  tensor(891.2264, device='cuda:0', grad_fn=<AddBackward0>)\n",
            "Train set: Accuracy=98.0\n",
            "Test set: Average loss: 0.0428, Accuracy: 9860/10000 (98.6%)\n",
            "\n",
            "EPOCH: 4 LR =  [0.1]\n",
            "Loss =  tensor(0.1154, device='cuda:0', grad_fn=<AddBackward0>)\n",
            "L1 =  tensor(877.0905, device='cuda:0', grad_fn=<AddBackward0>)\n",
            "Train set: Accuracy=98.1\n",
            "Test set: Average loss: 0.0365, Accuracy: 9879/10000 (98.8%)\n",
            "\n",
            "EPOCH: 5 LR =  [0.1]\n",
            "Loss =  tensor(0.2512, device='cuda:0', grad_fn=<AddBackward0>)\n",
            "L1 =  tensor(867.4116, device='cuda:0', grad_fn=<AddBackward0>)\n",
            "Train set: Accuracy=98.3\n",
            "Test set: Average loss: 0.0394, Accuracy: 9867/10000 (98.7%)\n",
            "\n",
            "EPOCH: 6 LR =  [0.1]\n",
            "Loss =  tensor(0.2036, device='cuda:0', grad_fn=<AddBackward0>)\n",
            "L1 =  tensor(847.4382, device='cuda:0', grad_fn=<AddBackward0>)\n",
            "Train set: Accuracy=98.3\n",
            "Test set: Average loss: 0.0300, Accuracy: 9891/10000 (98.9%)\n",
            "\n",
            "EPOCH: 7 LR =  [0.0010000000000000002]\n",
            "Loss =  tensor(0.1380, device='cuda:0', grad_fn=<AddBackward0>)\n",
            "L1 =  tensor(817.4976, device='cuda:0', grad_fn=<AddBackward0>)\n",
            "Train set: Accuracy=99.0\n",
            "Test set: Average loss: 0.0220, Accuracy: 9926/10000 (99.3%)\n",
            "\n",
            "EPOCH: 8 LR =  [0.010000000000000002]\n",
            "Loss =  tensor(0.1256, device='cuda:0', grad_fn=<AddBackward0>)\n",
            "L1 =  tensor(794.4941, device='cuda:0', grad_fn=<AddBackward0>)\n",
            "Train set: Accuracy=99.1\n",
            "Test set: Average loss: 0.0215, Accuracy: 9922/10000 (99.2%)\n",
            "\n",
            "EPOCH: 9 LR =  [0.010000000000000002]\n",
            "Loss =  tensor(0.1652, device='cuda:0', grad_fn=<AddBackward0>)\n",
            "L1 =  tensor(773.8687, device='cuda:0', grad_fn=<AddBackward0>)\n",
            "Train set: Accuracy=99.2\n",
            "Test set: Average loss: 0.0211, Accuracy: 9925/10000 (99.2%)\n",
            "\n",
            "EPOCH: 10 LR =  [0.010000000000000002]\n",
            "Loss =  tensor(0.1096, device='cuda:0', grad_fn=<AddBackward0>)\n",
            "L1 =  tensor(755.3981, device='cuda:0', grad_fn=<AddBackward0>)\n",
            "Train set: Accuracy=99.2\n",
            "Test set: Average loss: 0.0222, Accuracy: 9926/10000 (99.3%)\n",
            "\n",
            "EPOCH: 11 LR =  [0.010000000000000002]\n",
            "Loss =  tensor(0.0780, device='cuda:0', grad_fn=<AddBackward0>)\n",
            "L1 =  tensor(737.8936, device='cuda:0', grad_fn=<AddBackward0>)\n",
            "Train set: Accuracy=99.2\n",
            "Test set: Average loss: 0.0219, Accuracy: 9924/10000 (99.2%)\n",
            "\n",
            "EPOCH: 12 LR =  [0.010000000000000002]\n",
            "Loss =  tensor(0.0780, device='cuda:0', grad_fn=<AddBackward0>)\n",
            "L1 =  tensor(721.6934, device='cuda:0', grad_fn=<AddBackward0>)\n",
            "Train set: Accuracy=99.2\n",
            "Test set: Average loss: 0.0217, Accuracy: 9929/10000 (99.3%)\n",
            "\n",
            "EPOCH: 13 LR =  [0.00010000000000000003]\n",
            "Loss =  tensor(0.1379, device='cuda:0', grad_fn=<AddBackward0>)\n",
            "L1 =  tensor(718.8511, device='cuda:0', grad_fn=<AddBackward0>)\n",
            "Train set: Accuracy=99.3\n",
            "Test set: Average loss: 0.0205, Accuracy: 9931/10000 (99.3%)\n",
            "\n",
            "EPOCH: 14 LR =  [0.0010000000000000002]\n",
            "Loss =  tensor(0.0755, device='cuda:0', grad_fn=<AddBackward0>)\n",
            "L1 =  tensor(716.4929, device='cuda:0', grad_fn=<AddBackward0>)\n",
            "Train set: Accuracy=99.3\n",
            "Test set: Average loss: 0.0204, Accuracy: 9931/10000 (99.3%)\n",
            "\n",
            "EPOCH: 15 LR =  [0.0010000000000000002]\n",
            "Loss =  tensor(0.0931, device='cuda:0', grad_fn=<AddBackward0>)\n",
            "L1 =  tensor(714.3326, device='cuda:0', grad_fn=<AddBackward0>)\n",
            "Train set: Accuracy=99.2\n",
            "Test set: Average loss: 0.0203, Accuracy: 9931/10000 (99.3%)\n",
            "\n",
            "EPOCH: 16 LR =  [0.0010000000000000002]\n",
            "Loss =  tensor(0.0933, device='cuda:0', grad_fn=<AddBackward0>)\n",
            "L1 =  tensor(712.3002, device='cuda:0', grad_fn=<AddBackward0>)\n",
            "Train set: Accuracy=99.2\n",
            "Test set: Average loss: 0.0205, Accuracy: 9932/10000 (99.3%)\n",
            "\n",
            "EPOCH: 17 LR =  [0.0010000000000000002]\n",
            "Loss =  tensor(0.0983, device='cuda:0', grad_fn=<AddBackward0>)\n",
            "L1 =  tensor(710.3917, device='cuda:0', grad_fn=<AddBackward0>)\n",
            "Train set: Accuracy=99.2\n",
            "Test set: Average loss: 0.0204, Accuracy: 9932/10000 (99.3%)\n",
            "\n",
            "EPOCH: 18 LR =  [0.0010000000000000002]\n",
            "Loss =  tensor(0.0933, device='cuda:0', grad_fn=<AddBackward0>)\n",
            "L1 =  tensor(708.4948, device='cuda:0', grad_fn=<AddBackward0>)\n",
            "Train set: Accuracy=99.3\n",
            "Test set: Average loss: 0.0206, Accuracy: 9931/10000 (99.3%)\n",
            "\n",
            "EPOCH: 19 LR =  [1.0000000000000004e-05]\n",
            "Loss =  tensor(0.0933, device='cuda:0', grad_fn=<AddBackward0>)\n",
            "L1 =  tensor(708.2306, device='cuda:0', grad_fn=<AddBackward0>)\n",
            "Train set: Accuracy=99.3\n",
            "Test set: Average loss: 0.0206, Accuracy: 9932/10000 (99.3%)\n",
            "\n"
          ],
          "name": "stdout"
        },
        {
          "output_type": "display_data",
          "data": {
            "image/png": "[encoded data removed]",
            "text/plain": [
              "<Figure size 1008x1008 with 20 Axes>"
            ]
          },
          "metadata": {
            "tags": [],
            "needs_background": "light"
          }
        }
      ]
    },
    {
      "cell_type": "code",
      "metadata": {
        "colab": {
          "base_uri": "https://localhost:8080/",
          "height": 390
        },
        "id": "gq411LvilZbQ",
        "outputId": "2e78a711-2e2b-4a39-f90d-cc0c027c3cb1"
      },
      "source": [
        "import numpy as np\n",
        "%matplotlib inline\n",
        "import matplotlib.pyplot as plt\n",
        "plt.rcParams['figure.figsize'] = [15, 6]\n",
        "\n",
        "def training_curves(model1, model2, model3, legend, title):\n",
        "  plt.plot(np.array(model1))\n",
        "  plt.plot(np.array(model2), 'r')\n",
        "  plt.plot(np.array(model3), 'g')\n",
        "  plt.legend(legend)\n",
        "  plt.title(title)\n",
        "\n",
        "training_curves(model.training_losses_group, model.training_losses_layer, model.training_losses_batch, ['Group Normalization', 'Layer Normalization', 'Batch Normalization'], 'Training Loss per Epoch')"
      ],
      "execution_count": null,
      "outputs": [
        {
          "output_type": "display_data",
          "data": {
            "image/png": "[encoded data removed]",
            "text/plain": [
              "<Figure size 1080x432 with 1 Axes>"
            ]
          },
          "metadata": {
            "tags": [],
            "needs_background": "light"
          }
        }
      ]
    },
    {
      "cell_type": "code",
      "metadata": {
        "colab": {
          "base_uri": "https://localhost:8080/",
          "height": 390
        },
        "id": "jJQs-6rulkAu",
        "outputId": "b6b8d5a3-056f-41a1-ab09-5812172ba77e"
      },
      "source": [
        "plt.rcParams['figure.figsize'] = [15, 6]\n",
        "\n",
        "def training_curves(model1, model2, model3, legend, title):\n",
        "  plt.plot(np.array(model1))\n",
        "  plt.plot(np.array(model2), 'r')\n",
        "  plt.plot(np.array(model3), 'g')\n",
        "  plt.legend(legend)\n",
        "  plt.title(title)\n",
        "\n",
        "training_curves(model.testing_losses_group, model.testing_losses_layer, model.testing_losses_batch, ['Group Normalization', 'Layer Normalization', 'Batch Normalization'], 'Test Loss per Epoch')"
      ],
      "execution_count": null,
      "outputs": [
        {
          "output_type": "display_data",
          "data": {
            "image/png": "[encoded data removed]",
            "text/plain": [
              "<Figure size 1080x432 with 1 Axes>"
            ]
          },
          "metadata": {
            "tags": [],
            "needs_background": "light"
          }
        }
      ]
    },
    {
      "cell_type": "code",
      "metadata": {
        "colab": {
          "base_uri": "https://localhost:8080/",
          "height": 390
        },
        "id": "zI6Gy1b-lsug",
        "outputId": "24be5ceb-224e-4915-d7d3-d62af9aebb94"
      },
      "source": [
        "plt.rcParams['figure.figsize'] = [15, 6]\n",
        "\n",
        "def training_curves(model1, model2, model3, legend, title):\n",
        "  plt.plot(np.array(model1))\n",
        "  plt.plot(np.array(model2), 'r')\n",
        "  plt.plot(np.array(model3), 'g')\n",
        "  plt.legend(legend)\n",
        "  plt.title(title)\n",
        "\n",
        "training_curves(model.testing_accuracy_group, model.testing_accuracy_layer, model.testing_accuracy_batch, ['Group Normalization', 'Layer Normalization', 'Batch Normalization'], 'Test Accuracy per Epoch')"
      ],
      "execution_count": null,
      "outputs": [
        {
          "output_type": "display_data",
          "data": {
            "image/png": "[encoded data removed]",
            "text/plain": [
              "<Figure size 1080x432 with 1 Axes>"
            ]
          },
          "metadata": {
            "tags": [],
            "needs_background": "light"
          }
        }
      ]
    },
    {
      "cell_type": "code",
      "metadata": {
        "colab": {
          "base_uri": "https://localhost:8080/",
          "height": 390
        },
        "id": "TkcDGpV1l4C1",
        "outputId": "bdb697c1-1098-4073-c09b-db07b5c4029e"
      },
      "source": [
        "plt.rcParams['figure.figsize'] = [15, 6]\n",
        "\n",
        "def training_curves(model1, model2, model3, legend, title):\n",
        "  plt.plot(np.array(model1))\n",
        "  plt.plot(np.array(model2), 'r')\n",
        "  plt.plot(np.array(model3), 'g')\n",
        "  plt.legend(legend)\n",
        "  plt.title(title)\n",
        "\n",
        "training_curves(model.training_accuracy_group, model.training_accuracy_layer, model.training_accuracy_batch, ['Group Normalization', 'Layer Normalization', 'Batch Normalization'], 'Training Accuracy per Epoch')"
      ],
      "execution_count": null,
      "outputs": [
        {
          "output_type": "display_data",
          "data": {
            "image/png": "[encoded data removed]",
            "text/plain": [
              "<Figure size 1080x432 with 1 Axes>"
            ]
          },
          "metadata": {
            "tags": [],
            "needs_background": "light"
          }
        }
      ]
    }
  ]
}